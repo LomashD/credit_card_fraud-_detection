{
 "cells": [
  {
   "cell_type": "code",
   "execution_count": 1,
   "id": "6a67cd8f",
   "metadata": {},
   "outputs": [],
   "source": [
    "import numpy as np\n",
    "import pandas as pd"
   ]
  },
  {
   "cell_type": "code",
   "execution_count": 10,
   "id": "f9520966",
   "metadata": {},
   "outputs": [],
   "source": [
    "df_complete = pd.read_csv('dataset.csv')"
   ]
  },
  {
   "cell_type": "code",
   "execution_count": 11,
   "id": "e524873a",
   "metadata": {},
   "outputs": [
    {
     "data": {
      "text/html": [
       "<div>\n",
       "<style scoped>\n",
       "    .dataframe tbody tr th:only-of-type {\n",
       "        vertical-align: middle;\n",
       "    }\n",
       "\n",
       "    .dataframe tbody tr th {\n",
       "        vertical-align: top;\n",
       "    }\n",
       "\n",
       "    .dataframe thead th {\n",
       "        text-align: right;\n",
       "    }\n",
       "</style>\n",
       "<table border=\"1\" class=\"dataframe\">\n",
       "  <thead>\n",
       "    <tr style=\"text-align: right;\">\n",
       "      <th></th>\n",
       "      <th>Source.Name</th>\n",
       "      <th>Column1</th>\n",
       "      <th>trans_date_trans_time</th>\n",
       "      <th>cc_num</th>\n",
       "      <th>merchant</th>\n",
       "      <th>category</th>\n",
       "      <th>amt</th>\n",
       "      <th>first</th>\n",
       "      <th>last</th>\n",
       "      <th>gender</th>\n",
       "      <th>...</th>\n",
       "      <th>lat</th>\n",
       "      <th>long</th>\n",
       "      <th>city_pop</th>\n",
       "      <th>job</th>\n",
       "      <th>dob</th>\n",
       "      <th>trans_num</th>\n",
       "      <th>unix_time</th>\n",
       "      <th>merch_lat</th>\n",
       "      <th>merch_long</th>\n",
       "      <th>is_fraud</th>\n",
       "    </tr>\n",
       "  </thead>\n",
       "  <tbody>\n",
       "    <tr>\n",
       "      <th>172809</th>\n",
       "      <td>fraudTest.csv</td>\n",
       "      <td>172809</td>\n",
       "      <td>20-08-2020 21:52</td>\n",
       "      <td>3.573030e+15</td>\n",
       "      <td>fraud_Turcotte, Batz and Buckridge</td>\n",
       "      <td>health_fitness</td>\n",
       "      <td>103.39</td>\n",
       "      <td>Joanne</td>\n",
       "      <td>Williams</td>\n",
       "      <td>F</td>\n",
       "      <td>...</td>\n",
       "      <td>40.3207</td>\n",
       "      <td>-110.4360</td>\n",
       "      <td>302</td>\n",
       "      <td>Sales professional, IT</td>\n",
       "      <td>17-01-1990</td>\n",
       "      <td>0384c46245a8d5033f67753051f33e29</td>\n",
       "      <td>1377035540</td>\n",
       "      <td>40.074544</td>\n",
       "      <td>-111.349704</td>\n",
       "      <td>0</td>\n",
       "    </tr>\n",
       "    <tr>\n",
       "      <th>287344</th>\n",
       "      <td>fraudTest.csv</td>\n",
       "      <td>287344</td>\n",
       "      <td>06-10-2020 15:06</td>\n",
       "      <td>6.526960e+15</td>\n",
       "      <td>fraud_Nader-Maggio</td>\n",
       "      <td>personal_care</td>\n",
       "      <td>12.09</td>\n",
       "      <td>Jennifer</td>\n",
       "      <td>Scott</td>\n",
       "      <td>F</td>\n",
       "      <td>...</td>\n",
       "      <td>26.3304</td>\n",
       "      <td>-81.5871</td>\n",
       "      <td>276002</td>\n",
       "      <td>Medical technical officer</td>\n",
       "      <td>14-12-1950</td>\n",
       "      <td>749555b21f5ba9907ccb825675db92c2</td>\n",
       "      <td>1381071983</td>\n",
       "      <td>26.905920</td>\n",
       "      <td>-82.007587</td>\n",
       "      <td>0</td>\n",
       "    </tr>\n",
       "    <tr>\n",
       "      <th>317304</th>\n",
       "      <td>fraudTest.csv</td>\n",
       "      <td>317304</td>\n",
       "      <td>19-10-2020 22:13</td>\n",
       "      <td>6.538440e+15</td>\n",
       "      <td>fraud_Boehm, Predovic and Reinger</td>\n",
       "      <td>misc_pos</td>\n",
       "      <td>114.87</td>\n",
       "      <td>Gina</td>\n",
       "      <td>Grimes</td>\n",
       "      <td>F</td>\n",
       "      <td>...</td>\n",
       "      <td>41.3851</td>\n",
       "      <td>-80.1752</td>\n",
       "      <td>606</td>\n",
       "      <td>Energy manager</td>\n",
       "      <td>22-09-1997</td>\n",
       "      <td>1617df1aa1c1462815e4c4467fe12c14</td>\n",
       "      <td>1382220792</td>\n",
       "      <td>41.805469</td>\n",
       "      <td>-79.666194</td>\n",
       "      <td>0</td>\n",
       "    </tr>\n",
       "    <tr>\n",
       "      <th>957542</th>\n",
       "      <td>fraudTrain.csv</td>\n",
       "      <td>401823</td>\n",
       "      <td>01-07-2019 13:44</td>\n",
       "      <td>3.672270e+13</td>\n",
       "      <td>fraud_Bahringer, Bergnaum and Quitzon</td>\n",
       "      <td>home</td>\n",
       "      <td>133.94</td>\n",
       "      <td>Jessica</td>\n",
       "      <td>Perez</td>\n",
       "      <td>F</td>\n",
       "      <td>...</td>\n",
       "      <td>33.2887</td>\n",
       "      <td>-111.0985</td>\n",
       "      <td>2872</td>\n",
       "      <td>Petroleum engineer</td>\n",
       "      <td>28-10-1987</td>\n",
       "      <td>d7b52af4ca092976f256cf2e368de824</td>\n",
       "      <td>1341150240</td>\n",
       "      <td>33.437254</td>\n",
       "      <td>-111.550553</td>\n",
       "      <td>0</td>\n",
       "    </tr>\n",
       "    <tr>\n",
       "      <th>948816</th>\n",
       "      <td>fraudTrain.csv</td>\n",
       "      <td>393097</td>\n",
       "      <td>29-06-2019 03:59</td>\n",
       "      <td>3.599240e+15</td>\n",
       "      <td>fraud_Strosin-Cruickshank</td>\n",
       "      <td>grocery_pos</td>\n",
       "      <td>145.75</td>\n",
       "      <td>Jessica</td>\n",
       "      <td>Smith</td>\n",
       "      <td>F</td>\n",
       "      <td>...</td>\n",
       "      <td>36.8421</td>\n",
       "      <td>-85.5396</td>\n",
       "      <td>341</td>\n",
       "      <td>Insurance risk surveyor</td>\n",
       "      <td>19-11-1932</td>\n",
       "      <td>07b30f2007bdfa2826e5e6ed9557093f</td>\n",
       "      <td>1340942386</td>\n",
       "      <td>36.020690</td>\n",
       "      <td>-85.122168</td>\n",
       "      <td>0</td>\n",
       "    </tr>\n",
       "  </tbody>\n",
       "</table>\n",
       "<p>5 rows × 24 columns</p>\n",
       "</div>"
      ],
      "text/plain": [
       "           Source.Name  Column1 trans_date_trans_time        cc_num  \\\n",
       "172809   fraudTest.csv   172809      20-08-2020 21:52  3.573030e+15   \n",
       "287344   fraudTest.csv   287344      06-10-2020 15:06  6.526960e+15   \n",
       "317304   fraudTest.csv   317304      19-10-2020 22:13  6.538440e+15   \n",
       "957542  fraudTrain.csv   401823      01-07-2019 13:44  3.672270e+13   \n",
       "948816  fraudTrain.csv   393097      29-06-2019 03:59  3.599240e+15   \n",
       "\n",
       "                                     merchant        category     amt  \\\n",
       "172809     fraud_Turcotte, Batz and Buckridge  health_fitness  103.39   \n",
       "287344                     fraud_Nader-Maggio   personal_care   12.09   \n",
       "317304      fraud_Boehm, Predovic and Reinger        misc_pos  114.87   \n",
       "957542  fraud_Bahringer, Bergnaum and Quitzon            home  133.94   \n",
       "948816              fraud_Strosin-Cruickshank     grocery_pos  145.75   \n",
       "\n",
       "           first      last gender  ...      lat      long city_pop  \\\n",
       "172809    Joanne  Williams      F  ...  40.3207 -110.4360      302   \n",
       "287344  Jennifer     Scott      F  ...  26.3304  -81.5871   276002   \n",
       "317304      Gina    Grimes      F  ...  41.3851  -80.1752      606   \n",
       "957542   Jessica     Perez      F  ...  33.2887 -111.0985     2872   \n",
       "948816   Jessica     Smith      F  ...  36.8421  -85.5396      341   \n",
       "\n",
       "                              job         dob  \\\n",
       "172809     Sales professional, IT  17-01-1990   \n",
       "287344  Medical technical officer  14-12-1950   \n",
       "317304             Energy manager  22-09-1997   \n",
       "957542         Petroleum engineer  28-10-1987   \n",
       "948816    Insurance risk surveyor  19-11-1932   \n",
       "\n",
       "                               trans_num   unix_time  merch_lat  merch_long  \\\n",
       "172809  0384c46245a8d5033f67753051f33e29  1377035540  40.074544 -111.349704   \n",
       "287344  749555b21f5ba9907ccb825675db92c2  1381071983  26.905920  -82.007587   \n",
       "317304  1617df1aa1c1462815e4c4467fe12c14  1382220792  41.805469  -79.666194   \n",
       "957542  d7b52af4ca092976f256cf2e368de824  1341150240  33.437254 -111.550553   \n",
       "948816  07b30f2007bdfa2826e5e6ed9557093f  1340942386  36.020690  -85.122168   \n",
       "\n",
       "       is_fraud  \n",
       "172809        0  \n",
       "287344        0  \n",
       "317304        0  \n",
       "957542        0  \n",
       "948816        0  \n",
       "\n",
       "[5 rows x 24 columns]"
      ]
     },
     "execution_count": 11,
     "metadata": {},
     "output_type": "execute_result"
    }
   ],
   "source": [
    "df.sample(5)"
   ]
  },
  {
   "cell_type": "code",
   "execution_count": 5,
   "id": "96629c1e",
   "metadata": {},
   "outputs": [
    {
     "data": {
      "text/plain": [
       "(1048575, 24)"
      ]
     },
     "execution_count": 5,
     "metadata": {},
     "output_type": "execute_result"
    }
   ],
   "source": [
    "df.shape"
   ]
  },
  {
   "cell_type": "code",
   "execution_count": 7,
   "id": "a6556552",
   "metadata": {},
   "outputs": [
    {
     "name": "stdout",
     "output_type": "stream",
     "text": [
      "<class 'pandas.core.frame.DataFrame'>\n",
      "RangeIndex: 1048575 entries, 0 to 1048574\n",
      "Data columns (total 24 columns):\n",
      " #   Column                 Non-Null Count    Dtype  \n",
      "---  ------                 --------------    -----  \n",
      " 0   Source.Name            1048575 non-null  object \n",
      " 1   Column1                1048575 non-null  int64  \n",
      " 2   trans_date_trans_time  1048575 non-null  object \n",
      " 3   cc_num                 1048575 non-null  float64\n",
      " 4   merchant               1048575 non-null  object \n",
      " 5   category               1048575 non-null  object \n",
      " 6   amt                    1048575 non-null  float64\n",
      " 7   first                  1048575 non-null  object \n",
      " 8   last                   1048575 non-null  object \n",
      " 9   gender                 1048575 non-null  object \n",
      " 10  street                 1048575 non-null  object \n",
      " 11  city                   1048575 non-null  object \n",
      " 12  state                  1048575 non-null  object \n",
      " 13  zip                    1048575 non-null  int64  \n",
      " 14  lat                    1048575 non-null  float64\n",
      " 15  long                   1048575 non-null  float64\n",
      " 16  city_pop               1048575 non-null  int64  \n",
      " 17  job                    1048575 non-null  object \n",
      " 18  dob                    1048575 non-null  object \n",
      " 19  trans_num              1048575 non-null  object \n",
      " 20  unix_time              1048575 non-null  int64  \n",
      " 21  merch_lat              1048575 non-null  float64\n",
      " 22  merch_long             1048575 non-null  float64\n",
      " 23  is_fraud               1048575 non-null  int64  \n",
      "dtypes: float64(6), int64(5), object(13)\n",
      "memory usage: 192.0+ MB\n"
     ]
    }
   ],
   "source": [
    "df.info()"
   ]
  },
  {
   "cell_type": "code",
   "execution_count": 8,
   "id": "6518b5a2",
   "metadata": {},
   "outputs": [],
   "source": [
    "import seaborn as sns\n",
    "import matplotlib.pyplot as plt"
   ]
  },
  {
   "cell_type": "code",
   "execution_count": 12,
   "id": "04936710",
   "metadata": {},
   "outputs": [
    {
     "data": {
      "text/plain": [
       "<Axes: xlabel='is_fraud'>"
      ]
     },
     "execution_count": 12,
     "metadata": {},
     "output_type": "execute_result"
    },
    {
     "data": {
      "image/png": "[encoded data removed]",
      "text/plain": [
       "<Figure size 640x480 with 1 Axes>"
      ]
     },
     "metadata": {},
     "output_type": "display_data"
    }
   ],
   "source": [
    "df_complete.groupby('is_fraud').count()['cc_num'].plot.bar()"
   ]
  },
  {
   "cell_type": "code",
   "execution_count": 13,
   "id": "557592f9",
   "metadata": {},
   "outputs": [
    {
     "name": "stdout",
     "output_type": "stream",
     "text": [
      "5154 1043421\n"
     ]
    }
   ],
   "source": [
    "fraud = df_complete[df_complete['is_fraud'] == 1]\n",
    "non_fraud = df_complete[df_complete['is_fraud'] == 0]\n",
    "\n",
    "print(len(fraud), len(non_fraud))"
   ]
  },
  {
   "cell_type": "code",
   "execution_count": 14,
   "id": "2c44def7",
   "metadata": {},
   "outputs": [
    {
     "data": {
      "text/html": [
       "<div>\n",
       "<style scoped>\n",
       "    .dataframe tbody tr th:only-of-type {\n",
       "        vertical-align: middle;\n",
       "    }\n",
       "\n",
       "    .dataframe tbody tr th {\n",
       "        vertical-align: top;\n",
       "    }\n",
       "\n",
       "    .dataframe thead th {\n",
       "        text-align: right;\n",
       "    }\n",
       "</style>\n",
       "<table border=\"1\" class=\"dataframe\">\n",
       "  <thead>\n",
       "    <tr style=\"text-align: right;\">\n",
       "      <th></th>\n",
       "      <th>Column1</th>\n",
       "      <th>cc_num</th>\n",
       "      <th>amt</th>\n",
       "      <th>zip</th>\n",
       "      <th>lat</th>\n",
       "      <th>long</th>\n",
       "      <th>city_pop</th>\n",
       "      <th>unix_time</th>\n",
       "      <th>merch_lat</th>\n",
       "      <th>merch_long</th>\n",
       "      <th>is_fraud</th>\n",
       "    </tr>\n",
       "  </thead>\n",
       "  <tbody>\n",
       "    <tr>\n",
       "      <th>count</th>\n",
       "      <td>1.048575e+06</td>\n",
       "      <td>1.048575e+06</td>\n",
       "      <td>1.048575e+06</td>\n",
       "      <td>1.048575e+06</td>\n",
       "      <td>1.048575e+06</td>\n",
       "      <td>1.048575e+06</td>\n",
       "      <td>1.048575e+06</td>\n",
       "      <td>1.048575e+06</td>\n",
       "      <td>1.048575e+06</td>\n",
       "      <td>1.048575e+06</td>\n",
       "      <td>1.048575e+06</td>\n",
       "    </tr>\n",
       "    <tr>\n",
       "      <th>mean</th>\n",
       "      <td>2.630854e+05</td>\n",
       "      <td>4.173310e+17</td>\n",
       "      <td>6.990576e+01</td>\n",
       "      <td>4.880260e+04</td>\n",
       "      <td>3.853946e+01</td>\n",
       "      <td>-9.021884e+01</td>\n",
       "      <td>8.865699e+04</td>\n",
       "      <td>1.359501e+09</td>\n",
       "      <td>3.853882e+01</td>\n",
       "      <td>-9.021892e+01</td>\n",
       "      <td>4.915242e-03</td>\n",
       "    </tr>\n",
       "    <tr>\n",
       "      <th>std</th>\n",
       "      <td>1.529691e+05</td>\n",
       "      <td>1.309015e+18</td>\n",
       "      <td>1.581570e+02</td>\n",
       "      <td>2.688221e+04</td>\n",
       "      <td>5.067496e+00</td>\n",
       "      <td>1.374238e+01</td>\n",
       "      <td>3.016715e+05</td>\n",
       "      <td>2.308850e+07</td>\n",
       "      <td>5.101674e+00</td>\n",
       "      <td>1.375409e+01</td>\n",
       "      <td>6.993631e-02</td>\n",
       "    </tr>\n",
       "    <tr>\n",
       "      <th>min</th>\n",
       "      <td>0.000000e+00</td>\n",
       "      <td>6.041621e+10</td>\n",
       "      <td>1.000000e+00</td>\n",
       "      <td>1.257000e+03</td>\n",
       "      <td>2.002710e+01</td>\n",
       "      <td>-1.656723e+02</td>\n",
       "      <td>2.300000e+01</td>\n",
       "      <td>1.325376e+09</td>\n",
       "      <td>1.902742e+01</td>\n",
       "      <td>-1.666716e+02</td>\n",
       "      <td>0.000000e+00</td>\n",
       "    </tr>\n",
       "    <tr>\n",
       "      <th>25%</th>\n",
       "      <td>1.310715e+05</td>\n",
       "      <td>1.800400e+14</td>\n",
       "      <td>9.640000e+00</td>\n",
       "      <td>2.623700e+04</td>\n",
       "      <td>3.466890e+01</td>\n",
       "      <td>-9.679800e+01</td>\n",
       "      <td>7.410000e+02</td>\n",
       "      <td>1.336682e+09</td>\n",
       "      <td>3.474748e+01</td>\n",
       "      <td>-9.689111e+01</td>\n",
       "      <td>0.000000e+00</td>\n",
       "    </tr>\n",
       "    <tr>\n",
       "      <th>50%</th>\n",
       "      <td>2.621430e+05</td>\n",
       "      <td>3.520550e+15</td>\n",
       "      <td>4.740000e+01</td>\n",
       "      <td>4.817400e+04</td>\n",
       "      <td>3.937160e+01</td>\n",
       "      <td>-8.747690e+01</td>\n",
       "      <td>2.435000e+03</td>\n",
       "      <td>1.372705e+09</td>\n",
       "      <td>3.936980e+01</td>\n",
       "      <td>-8.742618e+01</td>\n",
       "      <td>0.000000e+00</td>\n",
       "    </tr>\n",
       "    <tr>\n",
       "      <th>75%</th>\n",
       "      <td>3.932150e+05</td>\n",
       "      <td>4.642260e+15</td>\n",
       "      <td>8.313000e+01</td>\n",
       "      <td>7.201100e+04</td>\n",
       "      <td>4.189480e+01</td>\n",
       "      <td>-8.015800e+01</td>\n",
       "      <td>2.032800e+04</td>\n",
       "      <td>1.381357e+09</td>\n",
       "      <td>4.195416e+01</td>\n",
       "      <td>-8.023724e+01</td>\n",
       "      <td>0.000000e+00</td>\n",
       "    </tr>\n",
       "    <tr>\n",
       "      <th>max</th>\n",
       "      <td>5.557180e+05</td>\n",
       "      <td>4.992350e+18</td>\n",
       "      <td>2.508694e+04</td>\n",
       "      <td>9.992100e+04</td>\n",
       "      <td>6.669330e+01</td>\n",
       "      <td>-6.795030e+01</td>\n",
       "      <td>2.906700e+06</td>\n",
       "      <td>1.388534e+09</td>\n",
       "      <td>6.751027e+01</td>\n",
       "      <td>-6.695203e+01</td>\n",
       "      <td>1.000000e+00</td>\n",
       "    </tr>\n",
       "  </tbody>\n",
       "</table>\n",
       "</div>"
      ],
      "text/plain": [
       "            Column1        cc_num           amt           zip           lat  \\\n",
       "count  1.048575e+06  1.048575e+06  1.048575e+06  1.048575e+06  1.048575e+06   \n",
       "mean   2.630854e+05  4.173310e+17  6.990576e+01  4.880260e+04  3.853946e+01   \n",
       "std    1.529691e+05  1.309015e+18  1.581570e+02  2.688221e+04  5.067496e+00   \n",
       "min    0.000000e+00  6.041621e+10  1.000000e+00  1.257000e+03  2.002710e+01   \n",
       "25%    1.310715e+05  1.800400e+14  9.640000e+00  2.623700e+04  3.466890e+01   \n",
       "50%    2.621430e+05  3.520550e+15  4.740000e+01  4.817400e+04  3.937160e+01   \n",
       "75%    3.932150e+05  4.642260e+15  8.313000e+01  7.201100e+04  4.189480e+01   \n",
       "max    5.557180e+05  4.992350e+18  2.508694e+04  9.992100e+04  6.669330e+01   \n",
       "\n",
       "               long      city_pop     unix_time     merch_lat    merch_long  \\\n",
       "count  1.048575e+06  1.048575e+06  1.048575e+06  1.048575e+06  1.048575e+06   \n",
       "mean  -9.021884e+01  8.865699e+04  1.359501e+09  3.853882e+01 -9.021892e+01   \n",
       "std    1.374238e+01  3.016715e+05  2.308850e+07  5.101674e+00  1.375409e+01   \n",
       "min   -1.656723e+02  2.300000e+01  1.325376e+09  1.902742e+01 -1.666716e+02   \n",
       "25%   -9.679800e+01  7.410000e+02  1.336682e+09  3.474748e+01 -9.689111e+01   \n",
       "50%   -8.747690e+01  2.435000e+03  1.372705e+09  3.936980e+01 -8.742618e+01   \n",
       "75%   -8.015800e+01  2.032800e+04  1.381357e+09  4.195416e+01 -8.023724e+01   \n",
       "max   -6.795030e+01  2.906700e+06  1.388534e+09  6.751027e+01 -6.695203e+01   \n",
       "\n",
       "           is_fraud  \n",
       "count  1.048575e+06  \n",
       "mean   4.915242e-03  \n",
       "std    6.993631e-02  \n",
       "min    0.000000e+00  \n",
       "25%    0.000000e+00  \n",
       "50%    0.000000e+00  \n",
       "75%    0.000000e+00  \n",
       "max    1.000000e+00  "
      ]
     },
     "execution_count": 14,
     "metadata": {},
     "output_type": "execute_result"
    }
   ],
   "source": [
    "df_complete.describe()"
   ]
  },
  {
   "cell_type": "code",
   "execution_count": 15,
   "id": "4bcd7910",
   "metadata": {},
   "outputs": [
    {
     "name": "stdout",
     "output_type": "stream",
     "text": [
      "<class 'pandas.core.frame.DataFrame'>\n",
      "RangeIndex: 1048575 entries, 0 to 1048574\n",
      "Data columns (total 24 columns):\n",
      " #   Column                 Non-Null Count    Dtype  \n",
      "---  ------                 --------------    -----  \n",
      " 0   Source.Name            1048575 non-null  object \n",
      " 1   Column1                1048575 non-null  int64  \n",
      " 2   trans_date_trans_time  1048575 non-null  object \n",
      " 3   cc_num                 1048575 non-null  float64\n",
      " 4   merchant               1048575 non-null  object \n",
      " 5   category               1048575 non-null  object \n",
      " 6   amt                    1048575 non-null  float64\n",
      " 7   first                  1048575 non-null  object \n",
      " 8   last                   1048575 non-null  object \n",
      " 9   gender                 1048575 non-null  object \n",
      " 10  street                 1048575 non-null  object \n",
      " 11  city                   1048575 non-null  object \n",
      " 12  state                  1048575 non-null  object \n",
      " 13  zip                    1048575 non-null  int64  \n",
      " 14  lat                    1048575 non-null  float64\n",
      " 15  long                   1048575 non-null  float64\n",
      " 16  city_pop               1048575 non-null  int64  \n",
      " 17  job                    1048575 non-null  object \n",
      " 18  dob                    1048575 non-null  object \n",
      " 19  trans_num              1048575 non-null  object \n",
      " 20  unix_time              1048575 non-null  int64  \n",
      " 21  merch_lat              1048575 non-null  float64\n",
      " 22  merch_long             1048575 non-null  float64\n",
      " 23  is_fraud               1048575 non-null  int64  \n",
      "dtypes: float64(6), int64(5), object(13)\n",
      "memory usage: 192.0+ MB\n"
     ]
    }
   ],
   "source": [
    "df_complete.info()"
   ]
  },
  {
   "cell_type": "code",
   "execution_count": 16,
   "id": "a9cd2539",
   "metadata": {},
   "outputs": [
    {
     "data": {
      "text/plain": [
       "Source.Name                    2\n",
       "Column1                   555719\n",
       "trans_date_trans_time     460843\n",
       "cc_num                       934\n",
       "merchant                     693\n",
       "category                      14\n",
       "amt                        47958\n",
       "first                        346\n",
       "last                         477\n",
       "gender                         2\n",
       "street                       954\n",
       "city                         873\n",
       "state                         51\n",
       "zip                          942\n",
       "lat                          940\n",
       "long                         940\n",
       "city_pop                     859\n",
       "job                          485\n",
       "dob                          940\n",
       "trans_num                1048575\n",
       "unix_time                1029962\n",
       "merch_lat                1016499\n",
       "merch_long               1034662\n",
       "is_fraud                       2\n",
       "dtype: int64"
      ]
     },
     "execution_count": 16,
     "metadata": {},
     "output_type": "execute_result"
    }
   ],
   "source": [
    "df_complete.nunique()"
   ]
  },
  {
   "cell_type": "code",
   "execution_count": 17,
   "id": "91aafdaa",
   "metadata": {},
   "outputs": [
    {
     "data": {
      "text/plain": [
       "0"
      ]
     },
     "execution_count": 17,
     "metadata": {},
     "output_type": "execute_result"
    }
   ],
   "source": [
    "df_complete.isna().sum().sum()"
   ]
  },
  {
   "cell_type": "code",
   "execution_count": 18,
   "id": "0bf5ec31",
   "metadata": {},
   "outputs": [
    {
     "data": {
      "text/plain": [
       "0"
      ]
     },
     "execution_count": 18,
     "metadata": {},
     "output_type": "execute_result"
    }
   ],
   "source": [
    "df_complete.duplicated().sum()"
   ]
  },
  {
   "cell_type": "code",
   "execution_count": 19,
   "id": "45d32a49",
   "metadata": {},
   "outputs": [
    {
     "data": {
      "text/plain": [
       "<Axes: >"
      ]
     },
     "execution_count": 19,
     "metadata": {},
     "output_type": "execute_result"
    },
    {
     "data": {
      "image/png": "[encoded data removed]",
      "text/plain": [
       "<Figure size 640x480 with 2 Axes>"
      ]
     },
     "metadata": {},
     "output_type": "display_data"
    }
   ],
   "source": [
    "sns.heatmap(df_complete[[i for i in df_complete.columns\\\n",
    "                         if df_complete[i].dtype == 'int64' \\\n",
    "                            or df_complete[i].dtype == 'float64']]\\\n",
    "                            .corr())"
   ]
  },
  {
   "cell_type": "code",
   "execution_count": 20,
   "id": "f7915c26",
   "metadata": {},
   "outputs": [],
   "source": [
    "df_balanced = pd.concat([fraud, non_fraud.sample(len(fraud), random_state= 42)])"
   ]
  },
  {
   "cell_type": "code",
   "execution_count": 21,
   "id": "2fc0bfbd",
   "metadata": {},
   "outputs": [
    {
     "data": {
      "text/plain": [
       "(10308, 24)"
      ]
     },
     "execution_count": 21,
     "metadata": {},
     "output_type": "execute_result"
    }
   ],
   "source": [
    "df_balanced.shape"
   ]
  },
  {
   "cell_type": "code",
   "execution_count": 22,
   "id": "4ab8cdef",
   "metadata": {},
   "outputs": [
    {
     "data": {
      "text/plain": [
       "<Axes: xlabel='is_fraud'>"
      ]
     },
     "execution_count": 22,
     "metadata": {},
     "output_type": "execute_result"
    },
    {
     "data": {
      "image/png": "[encoded data removed]",
      "text/plain": [
       "<Figure size 640x480 with 1 Axes>"
      ]
     },
     "metadata": {},
     "output_type": "display_data"
    }
   ],
   "source": [
    "df_balanced.groupby('is_fraud').count()['cc_num'].plot.bar()"
   ]
  },
  {
   "cell_type": "code",
   "execution_count": 24,
   "id": "209b66cc",
   "metadata": {},
   "outputs": [],
   "source": [
    "# Dropping columns not relevant for this case\n",
    "columns_dropped = ['Source.Name',\n",
    "                   'merchant', \n",
    "                   'cc_num',\n",
    "                   'first', \n",
    "                   'last',\n",
    "                   'gender',\n",
    "                   'trans_num',\n",
    "                   'unix_time',\n",
    "                   'street',\n",
    "                   'merch_lat',\n",
    "                   'merch_long',\n",
    "                   'job',\n",
    "                   'zip',\n",
    "                   ]\n",
    "\n",
    "df_balanced.drop(columns = columns_dropped, inplace = True)"
   ]
  },
  {
   "cell_type": "code",
   "execution_count": 25,
   "id": "caffcdcb",
   "metadata": {},
   "outputs": [
    {
     "name": "stdout",
     "output_type": "stream",
     "text": [
      "<class 'pandas.core.frame.DataFrame'>\n",
      "Index: 10308 entries, 1685 to 938224\n",
      "Data columns (total 11 columns):\n",
      " #   Column                 Non-Null Count  Dtype  \n",
      "---  ------                 --------------  -----  \n",
      " 0   Column1                10308 non-null  int64  \n",
      " 1   trans_date_trans_time  10308 non-null  object \n",
      " 2   category               10308 non-null  object \n",
      " 3   amt                    10308 non-null  float64\n",
      " 4   city                   10308 non-null  object \n",
      " 5   state                  10308 non-null  object \n",
      " 6   lat                    10308 non-null  float64\n",
      " 7   long                   10308 non-null  float64\n",
      " 8   city_pop               10308 non-null  int64  \n",
      " 9   dob                    10308 non-null  object \n",
      " 10  is_fraud               10308 non-null  int64  \n",
      "dtypes: float64(3), int64(3), object(5)\n",
      "memory usage: 966.4+ KB\n"
     ]
    }
   ],
   "source": [
    "df_balanced.info()"
   ]
  },
  {
   "cell_type": "code",
   "execution_count": 26,
   "id": "be3dcda7",
   "metadata": {},
   "outputs": [
    {
     "name": "stderr",
     "output_type": "stream",
     "text": [
      "C:\\Users\\PC-LENOVO\\AppData\\Local\\Temp\\ipykernel_14084\\4063811616.py:2: UserWarning: Parsing dates in %d-%m-%Y %H:%M format when dayfirst=False (the default) was specified. Pass `dayfirst=True` or specify a format to silence this warning.\n",
      "  df_balanced['trans_date_trans_time'] = pd.to_datetime(df_balanced['trans_date_trans_time'])\n",
      "C:\\Users\\PC-LENOVO\\AppData\\Local\\Temp\\ipykernel_14084\\4063811616.py:3: UserWarning: Parsing dates in %d-%m-%Y format when dayfirst=False (the default) was specified. Pass `dayfirst=True` or specify a format to silence this warning.\n",
      "  df_balanced['dob'] = pd.to_datetime(df_balanced['dob'])\n"
     ]
    }
   ],
   "source": [
    "# First, I'm converting 'trans_date_trans_time' and 'dob' into datetime type\n",
    "df_balanced['trans_date_trans_time'] = pd.to_datetime(df_balanced['trans_date_trans_time'])\n",
    "df_balanced['dob'] = pd.to_datetime(df_balanced['dob'])"
   ]
  },
  {
   "cell_type": "code",
   "execution_count": 27,
   "id": "c3b378a8",
   "metadata": {},
   "outputs": [
    {
     "name": "stdout",
     "output_type": "stream",
     "text": [
      "<class 'pandas.core.frame.DataFrame'>\n",
      "Index: 10308 entries, 1685 to 938224\n",
      "Data columns (total 11 columns):\n",
      " #   Column                 Non-Null Count  Dtype         \n",
      "---  ------                 --------------  -----         \n",
      " 0   Column1                10308 non-null  int64         \n",
      " 1   trans_date_trans_time  10308 non-null  datetime64[ns]\n",
      " 2   category               10308 non-null  object        \n",
      " 3   amt                    10308 non-null  float64       \n",
      " 4   city                   10308 non-null  object        \n",
      " 5   state                  10308 non-null  object        \n",
      " 6   lat                    10308 non-null  float64       \n",
      " 7   long                   10308 non-null  float64       \n",
      " 8   city_pop               10308 non-null  int64         \n",
      " 9   dob                    10308 non-null  datetime64[ns]\n",
      " 10  is_fraud               10308 non-null  int64         \n",
      "dtypes: datetime64[ns](2), float64(3), int64(3), object(3)\n",
      "memory usage: 966.4+ KB\n"
     ]
    }
   ],
   "source": [
    "df_balanced.info()"
   ]
  },
  {
   "cell_type": "code",
   "execution_count": 28,
   "id": "7b25e3f8",
   "metadata": {},
   "outputs": [],
   "source": [
    "# Now, we can use these datetime variables to extract relevant information\n",
    "# about the transaction and the client, such as day hour and age\n",
    "\n",
    "# Lets change these columns\n",
    "df_balanced['trans_date_trans_time'] = df_balanced['trans_date_trans_time'].dt.hour"
   ]
  },
  {
   "cell_type": "code",
   "execution_count": 29,
   "id": "76ef8e57",
   "metadata": {},
   "outputs": [],
   "source": [
    "df_balanced = df_balanced.rename(columns = {'trans_date_trans_time': 'hour_transaction'})"
   ]
  },
  {
   "cell_type": "code",
   "execution_count": 30,
   "id": "936f0ae9",
   "metadata": {},
   "outputs": [],
   "source": [
    "# Function to get time of day\n",
    "def get_tod(hour):\n",
    "    if 4 < hour['hour_transaction'] <= 12:\n",
    "        ans = 'morning'\n",
    "    elif 12 < hour['hour_transaction'] <= 20:\n",
    "        ans = 'afternoon'\n",
    "    elif hour['hour_transaction'] <= 4 or hour['hour_transaction'] > 20:\n",
    "        ans = 'night'\n",
    "    return ans"
   ]
  },
  {
   "cell_type": "code",
   "execution_count": 31,
   "id": "5e70586d",
   "metadata": {},
   "outputs": [],
   "source": [
    "df_balanced['hour_transaction'] = df_balanced.apply(get_tod, axis = 1)"
   ]
  },
  {
   "cell_type": "code",
   "execution_count": 32,
   "id": "1dfd2ac0",
   "metadata": {},
   "outputs": [
    {
     "data": {
      "text/html": [
       "<div>\n",
       "<style scoped>\n",
       "    .dataframe tbody tr th:only-of-type {\n",
       "        vertical-align: middle;\n",
       "    }\n",
       "\n",
       "    .dataframe tbody tr th {\n",
       "        vertical-align: top;\n",
       "    }\n",
       "\n",
       "    .dataframe thead th {\n",
       "        text-align: right;\n",
       "    }\n",
       "</style>\n",
       "<table border=\"1\" class=\"dataframe\">\n",
       "  <thead>\n",
       "    <tr style=\"text-align: right;\">\n",
       "      <th></th>\n",
       "      <th>Column1</th>\n",
       "      <th>hour_transaction</th>\n",
       "      <th>category</th>\n",
       "      <th>amt</th>\n",
       "      <th>city</th>\n",
       "      <th>state</th>\n",
       "      <th>lat</th>\n",
       "      <th>long</th>\n",
       "      <th>city_pop</th>\n",
       "      <th>dob</th>\n",
       "      <th>is_fraud</th>\n",
       "    </tr>\n",
       "  </thead>\n",
       "  <tbody>\n",
       "    <tr>\n",
       "      <th>1685</th>\n",
       "      <td>1685</td>\n",
       "      <td>night</td>\n",
       "      <td>health_fitness</td>\n",
       "      <td>24.84</td>\n",
       "      <td>Notrees</td>\n",
       "      <td>TX</td>\n",
       "      <td>31.8599</td>\n",
       "      <td>-102.7413</td>\n",
       "      <td>23</td>\n",
       "      <td>1969-09-15</td>\n",
       "      <td>1</td>\n",
       "    </tr>\n",
       "    <tr>\n",
       "      <th>1767</th>\n",
       "      <td>1767</td>\n",
       "      <td>night</td>\n",
       "      <td>misc_net</td>\n",
       "      <td>780.52</td>\n",
       "      <td>Benton</td>\n",
       "      <td>WI</td>\n",
       "      <td>42.5545</td>\n",
       "      <td>-90.3508</td>\n",
       "      <td>1306</td>\n",
       "      <td>1958-09-10</td>\n",
       "      <td>1</td>\n",
       "    </tr>\n",
       "    <tr>\n",
       "      <th>1781</th>\n",
       "      <td>1781</td>\n",
       "      <td>night</td>\n",
       "      <td>entertainment</td>\n",
       "      <td>620.33</td>\n",
       "      <td>Benton</td>\n",
       "      <td>WI</td>\n",
       "      <td>42.5545</td>\n",
       "      <td>-90.3508</td>\n",
       "      <td>1306</td>\n",
       "      <td>1958-09-10</td>\n",
       "      <td>1</td>\n",
       "    </tr>\n",
       "    <tr>\n",
       "      <th>1784</th>\n",
       "      <td>1784</td>\n",
       "      <td>night</td>\n",
       "      <td>shopping_net</td>\n",
       "      <td>1077.69</td>\n",
       "      <td>Denham Springs</td>\n",
       "      <td>LA</td>\n",
       "      <td>30.4590</td>\n",
       "      <td>-90.9027</td>\n",
       "      <td>71335</td>\n",
       "      <td>1994-05-31</td>\n",
       "      <td>1</td>\n",
       "    </tr>\n",
       "    <tr>\n",
       "      <th>1857</th>\n",
       "      <td>1857</td>\n",
       "      <td>night</td>\n",
       "      <td>shopping_pos</td>\n",
       "      <td>842.65</td>\n",
       "      <td>Notrees</td>\n",
       "      <td>TX</td>\n",
       "      <td>31.8599</td>\n",
       "      <td>-102.7413</td>\n",
       "      <td>23</td>\n",
       "      <td>1969-09-15</td>\n",
       "      <td>1</td>\n",
       "    </tr>\n",
       "  </tbody>\n",
       "</table>\n",
       "</div>"
      ],
      "text/plain": [
       "      Column1 hour_transaction        category      amt            city state  \\\n",
       "1685     1685            night  health_fitness    24.84         Notrees    TX   \n",
       "1767     1767            night        misc_net   780.52          Benton    WI   \n",
       "1781     1781            night   entertainment   620.33          Benton    WI   \n",
       "1784     1784            night    shopping_net  1077.69  Denham Springs    LA   \n",
       "1857     1857            night    shopping_pos   842.65         Notrees    TX   \n",
       "\n",
       "          lat      long  city_pop        dob  is_fraud  \n",
       "1685  31.8599 -102.7413        23 1969-09-15         1  \n",
       "1767  42.5545  -90.3508      1306 1958-09-10         1  \n",
       "1781  42.5545  -90.3508      1306 1958-09-10         1  \n",
       "1784  30.4590  -90.9027     71335 1994-05-31         1  \n",
       "1857  31.8599 -102.7413        23 1969-09-15         1  "
      ]
     },
     "execution_count": 32,
     "metadata": {},
     "output_type": "execute_result"
    }
   ],
   "source": [
    "df_balanced.head()"
   ]
  },
  {
   "cell_type": "code",
   "execution_count": 33,
   "id": "93550cb9",
   "metadata": {},
   "outputs": [],
   "source": [
    "# Now, about 'dob' (day of birth), we can get the age of the user\n",
    "df_balanced['dob']= df_balanced['dob'].dt.year\n",
    "df_balanced = df_balanced.rename(columns = {'dob': 'age'})"
   ]
  },
  {
   "cell_type": "code",
   "execution_count": 34,
   "id": "e6460c9a",
   "metadata": {},
   "outputs": [],
   "source": [
    "from datetime import datetime\n",
    "df_balanced['age'] = datetime.now().year - df_balanced['age']"
   ]
  },
  {
   "cell_type": "code",
   "execution_count": 35,
   "id": "7854b78b",
   "metadata": {},
   "outputs": [
    {
     "data": {
      "text/plain": [
       "age\n",
       "19      7\n",
       "20      5\n",
       "22     12\n",
       "23     58\n",
       "24     55\n",
       "       ..\n",
       "95     38\n",
       "97     35\n",
       "98     17\n",
       "99     11\n",
       "100     7\n",
       "Name: is_fraud, Length: 79, dtype: int64"
      ]
     },
     "execution_count": 35,
     "metadata": {},
     "output_type": "execute_result"
    }
   ],
   "source": [
    "# Analyzing how many frauds occur for each age group\n",
    "df_balanced[df_balanced['is_fraud'] == 1].groupby('age').count()['is_fraud']"
   ]
  },
  {
   "cell_type": "code",
   "execution_count": 36,
   "id": "c5f23319",
   "metadata": {},
   "outputs": [
    {
     "name": "stdout",
     "output_type": "stream",
     "text": [
      "<class 'pandas.core.frame.DataFrame'>\n",
      "Index: 10308 entries, 1685 to 938224\n",
      "Data columns (total 11 columns):\n",
      " #   Column            Non-Null Count  Dtype  \n",
      "---  ------            --------------  -----  \n",
      " 0   Column1           10308 non-null  int64  \n",
      " 1   hour_transaction  10308 non-null  object \n",
      " 2   category          10308 non-null  object \n",
      " 3   amt               10308 non-null  float64\n",
      " 4   city              10308 non-null  object \n",
      " 5   state             10308 non-null  object \n",
      " 6   lat               10308 non-null  float64\n",
      " 7   long              10308 non-null  float64\n",
      " 8   city_pop          10308 non-null  int64  \n",
      " 9   age               10308 non-null  int32  \n",
      " 10  is_fraud          10308 non-null  int64  \n",
      "dtypes: float64(3), int32(1), int64(3), object(4)\n",
      "memory usage: 926.1+ KB\n"
     ]
    }
   ],
   "source": [
    "df_balanced.info()"
   ]
  },
  {
   "cell_type": "code",
   "execution_count": 37,
   "id": "80464f1c",
   "metadata": {},
   "outputs": [],
   "source": [
    "NUMERICAL_FEATURES = [i for i in df_balanced.columns if df_balanced[i].dtype == 'int64'\\\n",
    "                      or df_balanced[i].dtype =='int32' \\\n",
    "                      or df_balanced[i].dtype =='float64']\n",
    "CATEGORICAL_FEATURES = [i for i in df_balanced.columns if df_balanced[i].dtype == 'object']"
   ]
  },
  {
   "cell_type": "code",
   "execution_count": 38,
   "id": "39bae06b",
   "metadata": {},
   "outputs": [
    {
     "data": {
      "text/plain": [
       "['Column1', 'amt', 'lat', 'long', 'city_pop', 'age', 'is_fraud']"
      ]
     },
     "execution_count": 38,
     "metadata": {},
     "output_type": "execute_result"
    }
   ],
   "source": [
    "NUMERICAL_FEATURES"
   ]
  },
  {
   "cell_type": "code",
   "execution_count": 39,
   "id": "9fbaa4bc",
   "metadata": {},
   "outputs": [
    {
     "data": {
      "text/plain": [
       "['hour_transaction', 'category', 'city', 'state']"
      ]
     },
     "execution_count": 39,
     "metadata": {},
     "output_type": "execute_result"
    }
   ],
   "source": [
    "CATEGORICAL_FEATURES"
   ]
  },
  {
   "cell_type": "code",
   "execution_count": 40,
   "id": "59eb846d",
   "metadata": {},
   "outputs": [],
   "source": [
    "from sklearn.preprocessing import OrdinalEncoder\n",
    "\n",
    "encoder = OrdinalEncoder()\n",
    "encoder.fit(df_balanced[CATEGORICAL_FEATURES])\n",
    "\n",
    "df_balanced[CATEGORICAL_FEATURES] = encoder.transform(df_balanced[CATEGORICAL_FEATURES])"
   ]
  },
  {
   "cell_type": "code",
   "execution_count": 41,
   "id": "faaf71db",
   "metadata": {},
   "outputs": [
    {
     "data": {
      "text/html": [
       "<div>\n",
       "<style scoped>\n",
       "    .dataframe tbody tr th:only-of-type {\n",
       "        vertical-align: middle;\n",
       "    }\n",
       "\n",
       "    .dataframe tbody tr th {\n",
       "        vertical-align: top;\n",
       "    }\n",
       "\n",
       "    .dataframe thead th {\n",
       "        text-align: right;\n",
       "    }\n",
       "</style>\n",
       "<table border=\"1\" class=\"dataframe\">\n",
       "  <thead>\n",
       "    <tr style=\"text-align: right;\">\n",
       "      <th></th>\n",
       "      <th>Column1</th>\n",
       "      <th>hour_transaction</th>\n",
       "      <th>category</th>\n",
       "      <th>amt</th>\n",
       "      <th>city</th>\n",
       "      <th>state</th>\n",
       "      <th>lat</th>\n",
       "      <th>long</th>\n",
       "      <th>city_pop</th>\n",
       "      <th>age</th>\n",
       "      <th>is_fraud</th>\n",
       "    </tr>\n",
       "  </thead>\n",
       "  <tbody>\n",
       "    <tr>\n",
       "      <th>1685</th>\n",
       "      <td>1685</td>\n",
       "      <td>2.0</td>\n",
       "      <td>5.0</td>\n",
       "      <td>24.84</td>\n",
       "      <td>565.0</td>\n",
       "      <td>43.0</td>\n",
       "      <td>31.8599</td>\n",
       "      <td>-102.7413</td>\n",
       "      <td>23</td>\n",
       "      <td>55</td>\n",
       "      <td>1</td>\n",
       "    </tr>\n",
       "    <tr>\n",
       "      <th>1767</th>\n",
       "      <td>1767</td>\n",
       "      <td>2.0</td>\n",
       "      <td>8.0</td>\n",
       "      <td>780.52</td>\n",
       "      <td>65.0</td>\n",
       "      <td>48.0</td>\n",
       "      <td>42.5545</td>\n",
       "      <td>-90.3508</td>\n",
       "      <td>1306</td>\n",
       "      <td>66</td>\n",
       "      <td>1</td>\n",
       "    </tr>\n",
       "    <tr>\n",
       "      <th>1781</th>\n",
       "      <td>1781</td>\n",
       "      <td>2.0</td>\n",
       "      <td>0.0</td>\n",
       "      <td>620.33</td>\n",
       "      <td>65.0</td>\n",
       "      <td>48.0</td>\n",
       "      <td>42.5545</td>\n",
       "      <td>-90.3508</td>\n",
       "      <td>1306</td>\n",
       "      <td>66</td>\n",
       "      <td>1</td>\n",
       "    </tr>\n",
       "    <tr>\n",
       "      <th>1784</th>\n",
       "      <td>1784</td>\n",
       "      <td>2.0</td>\n",
       "      <td>11.0</td>\n",
       "      <td>1077.69</td>\n",
       "      <td>201.0</td>\n",
       "      <td>18.0</td>\n",
       "      <td>30.4590</td>\n",
       "      <td>-90.9027</td>\n",
       "      <td>71335</td>\n",
       "      <td>30</td>\n",
       "      <td>1</td>\n",
       "    </tr>\n",
       "    <tr>\n",
       "      <th>1857</th>\n",
       "      <td>1857</td>\n",
       "      <td>2.0</td>\n",
       "      <td>12.0</td>\n",
       "      <td>842.65</td>\n",
       "      <td>565.0</td>\n",
       "      <td>43.0</td>\n",
       "      <td>31.8599</td>\n",
       "      <td>-102.7413</td>\n",
       "      <td>23</td>\n",
       "      <td>55</td>\n",
       "      <td>1</td>\n",
       "    </tr>\n",
       "  </tbody>\n",
       "</table>\n",
       "</div>"
      ],
      "text/plain": [
       "      Column1  hour_transaction  category      amt   city  state      lat  \\\n",
       "1685     1685               2.0       5.0    24.84  565.0   43.0  31.8599   \n",
       "1767     1767               2.0       8.0   780.52   65.0   48.0  42.5545   \n",
       "1781     1781               2.0       0.0   620.33   65.0   48.0  42.5545   \n",
       "1784     1784               2.0      11.0  1077.69  201.0   18.0  30.4590   \n",
       "1857     1857               2.0      12.0   842.65  565.0   43.0  31.8599   \n",
       "\n",
       "          long  city_pop  age  is_fraud  \n",
       "1685 -102.7413        23   55         1  \n",
       "1767  -90.3508      1306   66         1  \n",
       "1781  -90.3508      1306   66         1  \n",
       "1784  -90.9027     71335   30         1  \n",
       "1857 -102.7413        23   55         1  "
      ]
     },
     "execution_count": 41,
     "metadata": {},
     "output_type": "execute_result"
    }
   ],
   "source": [
    "df_balanced.head()"
   ]
  },
  {
   "cell_type": "markdown",
   "id": "138a9e54",
   "metadata": {},
   "source": [
    "# Correcting datatypes"
   ]
  },
  {
   "cell_type": "code",
   "execution_count": 42,
   "id": "63cee053",
   "metadata": {},
   "outputs": [],
   "source": [
    "df_balanced[['is_fraud', 'age']] = df_balanced[['is_fraud', 'age']].astype('float64')"
   ]
  },
  {
   "cell_type": "markdown",
   "id": "22f815a9",
   "metadata": {},
   "source": [
    "# Scaling dataset"
   ]
  },
  {
   "cell_type": "code",
   "execution_count": 43,
   "id": "0a086d64",
   "metadata": {},
   "outputs": [
    {
     "data": {
      "text/plain": [
       "<Axes: >"
      ]
     },
     "execution_count": 43,
     "metadata": {},
     "output_type": "execute_result"
    },
    {
     "data": {
      "image/png": "[encoded data removed]",
      "text/plain": [
       "<Figure size 640x480 with 1 Axes>"
      ]
     },
     "metadata": {},
     "output_type": "display_data"
    }
   ],
   "source": [
    "sns.boxplot(df_balanced[NUMERICAL_FEATURES])"
   ]
  },
  {
   "cell_type": "code",
   "execution_count": 44,
   "id": "83a5909e",
   "metadata": {},
   "outputs": [
    {
     "data": {
      "text/plain": [
       "<Axes: >"
      ]
     },
     "execution_count": 44,
     "metadata": {},
     "output_type": "execute_result"
    },
    {
     "data": {
      "image/png": "[encoded data removed]",
      "text/plain": [
       "<Figure size 640x480 with 1 Axes>"
      ]
     },
     "metadata": {},
     "output_type": "display_data"
    }
   ],
   "source": [
    "sns.boxplot(df_balanced[['amt']])"
   ]
  },
  {
   "cell_type": "code",
   "execution_count": 45,
   "id": "a736bb6d",
   "metadata": {},
   "outputs": [],
   "source": [
    "# Using min max scaler\n",
    "from sklearn.preprocessing import MinMaxScaler\n",
    "\n",
    "scaler = MinMaxScaler()\n",
    "df_scaled = scaler.fit_transform(df_balanced)\n",
    "df_scaled = pd.DataFrame(df_scaled)"
   ]
  },
  {
   "cell_type": "code",
   "execution_count": 46,
   "id": "537b853b",
   "metadata": {},
   "outputs": [],
   "source": [
    "last_column = df_scaled.shape[1]-1"
   ]
  },
  {
   "cell_type": "code",
   "execution_count": 47,
   "id": "71039131",
   "metadata": {},
   "outputs": [
    {
     "name": "stdout",
     "output_type": "stream",
     "text": [
      "Not fraud: 5154\n",
      "Fraud: 5154\n"
     ]
    }
   ],
   "source": [
    "print(f\"Not fraud: {df_scaled[df_scaled[last_column] == 0].count()[last_column]}\")\n",
    "print(f\"Fraud: {df_scaled[df_scaled[last_column] == 1].count()[last_column]}\")"
   ]
  },
  {
   "cell_type": "code",
   "execution_count": 48,
   "id": "4277456e",
   "metadata": {},
   "outputs": [
    {
     "data": {
      "text/html": [
       "<div>\n",
       "<style scoped>\n",
       "    .dataframe tbody tr th:only-of-type {\n",
       "        vertical-align: middle;\n",
       "    }\n",
       "\n",
       "    .dataframe tbody tr th {\n",
       "        vertical-align: top;\n",
       "    }\n",
       "\n",
       "    .dataframe thead th {\n",
       "        text-align: right;\n",
       "    }\n",
       "</style>\n",
       "<table border=\"1\" class=\"dataframe\">\n",
       "  <thead>\n",
       "    <tr style=\"text-align: right;\">\n",
       "      <th></th>\n",
       "      <th>0</th>\n",
       "      <th>1</th>\n",
       "      <th>2</th>\n",
       "      <th>3</th>\n",
       "      <th>4</th>\n",
       "      <th>5</th>\n",
       "      <th>6</th>\n",
       "      <th>7</th>\n",
       "      <th>8</th>\n",
       "      <th>9</th>\n",
       "      <th>is_fraud</th>\n",
       "    </tr>\n",
       "  </thead>\n",
       "  <tbody>\n",
       "    <tr>\n",
       "      <th>0</th>\n",
       "      <td>0.002815</td>\n",
       "      <td>1.0</td>\n",
       "      <td>0.384615</td>\n",
       "      <td>0.004346</td>\n",
       "      <td>0.663925</td>\n",
       "      <td>0.86</td>\n",
       "      <td>0.253563</td>\n",
       "      <td>0.643980</td>\n",
       "      <td>0.000000</td>\n",
       "      <td>0.444444</td>\n",
       "      <td>1.0</td>\n",
       "    </tr>\n",
       "    <tr>\n",
       "      <th>1</th>\n",
       "      <td>0.002963</td>\n",
       "      <td>1.0</td>\n",
       "      <td>0.615385</td>\n",
       "      <td>0.142150</td>\n",
       "      <td>0.076381</td>\n",
       "      <td>0.96</td>\n",
       "      <td>0.482735</td>\n",
       "      <td>0.770773</td>\n",
       "      <td>0.000441</td>\n",
       "      <td>0.580247</td>\n",
       "      <td>1.0</td>\n",
       "    </tr>\n",
       "    <tr>\n",
       "      <th>2</th>\n",
       "      <td>0.002988</td>\n",
       "      <td>1.0</td>\n",
       "      <td>0.000000</td>\n",
       "      <td>0.112938</td>\n",
       "      <td>0.076381</td>\n",
       "      <td>0.96</td>\n",
       "      <td>0.482735</td>\n",
       "      <td>0.770773</td>\n",
       "      <td>0.000441</td>\n",
       "      <td>0.580247</td>\n",
       "      <td>1.0</td>\n",
       "    </tr>\n",
       "    <tr>\n",
       "      <th>3</th>\n",
       "      <td>0.002994</td>\n",
       "      <td>1.0</td>\n",
       "      <td>0.846154</td>\n",
       "      <td>0.196341</td>\n",
       "      <td>0.236193</td>\n",
       "      <td>0.36</td>\n",
       "      <td>0.223543</td>\n",
       "      <td>0.765126</td>\n",
       "      <td>0.024534</td>\n",
       "      <td>0.135802</td>\n",
       "      <td>1.0</td>\n",
       "    </tr>\n",
       "    <tr>\n",
       "      <th>4</th>\n",
       "      <td>0.003125</td>\n",
       "      <td>1.0</td>\n",
       "      <td>0.923077</td>\n",
       "      <td>0.153480</td>\n",
       "      <td>0.663925</td>\n",
       "      <td>0.86</td>\n",
       "      <td>0.253563</td>\n",
       "      <td>0.643980</td>\n",
       "      <td>0.000000</td>\n",
       "      <td>0.444444</td>\n",
       "      <td>1.0</td>\n",
       "    </tr>\n",
       "  </tbody>\n",
       "</table>\n",
       "</div>"
      ],
      "text/plain": [
       "          0    1         2         3         4     5         6         7  \\\n",
       "0  0.002815  1.0  0.384615  0.004346  0.663925  0.86  0.253563  0.643980   \n",
       "1  0.002963  1.0  0.615385  0.142150  0.076381  0.96  0.482735  0.770773   \n",
       "2  0.002988  1.0  0.000000  0.112938  0.076381  0.96  0.482735  0.770773   \n",
       "3  0.002994  1.0  0.846154  0.196341  0.236193  0.36  0.223543  0.765126   \n",
       "4  0.003125  1.0  0.923077  0.153480  0.663925  0.86  0.253563  0.643980   \n",
       "\n",
       "          8         9  is_fraud  \n",
       "0  0.000000  0.444444       1.0  \n",
       "1  0.000441  0.580247       1.0  \n",
       "2  0.000441  0.580247       1.0  \n",
       "3  0.024534  0.135802       1.0  \n",
       "4  0.000000  0.444444       1.0  "
      ]
     },
     "execution_count": 48,
     "metadata": {},
     "output_type": "execute_result"
    }
   ],
   "source": [
    "df_scaled.rename(columns={last_column: 'is_fraud'}, inplace=True)\n",
    "df_scaled.head()"
   ]
  },
  {
   "cell_type": "markdown",
   "id": "8b320ed0",
   "metadata": {},
   "source": [
    "# Modeling"
   ]
  },
  {
   "cell_type": "code",
   "execution_count": 49,
   "id": "5f46bb7d",
   "metadata": {},
   "outputs": [],
   "source": [
    "from sklearn.linear_model import LogisticRegression\n",
    "from sklearn.metrics import classification_report\n",
    "from sklearn.metrics import confusion_matrix, ConfusionMatrixDisplay\n",
    "from sklearn.model_selection import train_test_split"
   ]
  },
  {
   "cell_type": "code",
   "execution_count": 50,
   "id": "7df4a8a4",
   "metadata": {},
   "outputs": [],
   "source": [
    "# X = feature values, all the columns except the last column\n",
    "X = df_scaled.drop(columns = 'is_fraud')\n",
    "\n",
    "# y = target values, last column of the data frame\n",
    "y = df_scaled['is_fraud']"
   ]
  },
  {
   "cell_type": "code",
   "execution_count": 51,
   "id": "968fb481",
   "metadata": {},
   "outputs": [],
   "source": [
    "# Spliting train and test - hold out\n",
    "x_train, x_test, y_train, y_test = train_test_split(X, y, test_size=0.2, random_state=42)"
   ]
  },
  {
   "cell_type": "markdown",
   "id": "c8911392",
   "metadata": {},
   "source": [
    "# Logistic Regression model"
   ]
  },
  {
   "cell_type": "code",
   "execution_count": 52,
   "id": "7c20c32f",
   "metadata": {},
   "outputs": [
    {
     "data": {
      "text/html": [
       "<style>#sk-container-id-1 {color: black;background-color: white;}#sk-container-id-1 pre{padding: 0;}#sk-container-id-1 div.sk-toggleable {background-color: white;}#sk-container-id-1 label.sk-toggleable__label {cursor: pointer;display: block;width: 100%;margin-bottom: 0;padding: 0.3em;box-sizing: border-box;text-align: center;}#sk-container-id-1 label.sk-toggleable__label-arrow:before {content: \"▸\";float: left;margin-right: 0.25em;color: #696969;}#sk-container-id-1 label.sk-toggleable__label-arrow:hover:before {color: black;}#sk-container-id-1 div.sk-estimator:hover label.sk-toggleable__label-arrow:before {color: black;}#sk-container-id-1 div.sk-toggleable__content {max-height: 0;max-width: 0;overflow: hidden;text-align: left;background-color: #f0f8ff;}#sk-container-id-1 div.sk-toggleable__content pre {margin: 0.2em;color: black;border-radius: 0.25em;background-color: #f0f8ff;}#sk-container-id-1 input.sk-toggleable__control:checked~div.sk-toggleable__content {max-height: 200px;max-width: 100%;overflow: auto;}#sk-container-id-1 input.sk-toggleable__control:checked~label.sk-toggleable__label-arrow:before {content: \"▾\";}#sk-container-id-1 div.sk-estimator input.sk-toggleable__control:checked~label.sk-toggleable__label {background-color: #d4ebff;}#sk-container-id-1 div.sk-label input.sk-toggleable__control:checked~label.sk-toggleable__label {background-color: #d4ebff;}#sk-container-id-1 input.sk-hidden--visually {border: 0;clip: rect(1px 1px 1px 1px);clip: rect(1px, 1px, 1px, 1px);height: 1px;margin: -1px;overflow: hidden;padding: 0;position: absolute;width: 1px;}#sk-container-id-1 div.sk-estimator {font-family: monospace;background-color: #f0f8ff;border: 1px dotted black;border-radius: 0.25em;box-sizing: border-box;margin-bottom: 0.5em;}#sk-container-id-1 div.sk-estimator:hover {background-color: #d4ebff;}#sk-container-id-1 div.sk-parallel-item::after {content: \"\";width: 100%;border-bottom: 1px solid gray;flex-grow: 1;}#sk-container-id-1 div.sk-label:hover label.sk-toggleable__label {background-color: #d4ebff;}#sk-container-id-1 div.sk-serial::before {content: \"\";position: absolute;border-left: 1px solid gray;box-sizing: border-box;top: 0;bottom: 0;left: 50%;z-index: 0;}#sk-container-id-1 div.sk-serial {display: flex;flex-direction: column;align-items: center;background-color: white;padding-right: 0.2em;padding-left: 0.2em;position: relative;}#sk-container-id-1 div.sk-item {position: relative;z-index: 1;}#sk-container-id-1 div.sk-parallel {display: flex;align-items: stretch;justify-content: center;background-color: white;position: relative;}#sk-container-id-1 div.sk-item::before, #sk-container-id-1 div.sk-parallel-item::before {content: \"\";position: absolute;border-left: 1px solid gray;box-sizing: border-box;top: 0;bottom: 0;left: 50%;z-index: -1;}#sk-container-id-1 div.sk-parallel-item {display: flex;flex-direction: column;z-index: 1;position: relative;background-color: white;}#sk-container-id-1 div.sk-parallel-item:first-child::after {align-self: flex-end;width: 50%;}#sk-container-id-1 div.sk-parallel-item:last-child::after {align-self: flex-start;width: 50%;}#sk-container-id-1 div.sk-parallel-item:only-child::after {width: 0;}#sk-container-id-1 div.sk-dashed-wrapped {border: 1px dashed gray;margin: 0 0.4em 0.5em 0.4em;box-sizing: border-box;padding-bottom: 0.4em;background-color: white;}#sk-container-id-1 div.sk-label label {font-family: monospace;font-weight: bold;display: inline-block;line-height: 1.2em;}#sk-container-id-1 div.sk-label-container {text-align: center;}#sk-container-id-1 div.sk-container {/* jupyter's `normalize.less` sets `[hidden] { display: none; }` but bootstrap.min.css set `[hidden] { display: none !important; }` so we also need the `!important` here to be able to override the default hidden behavior on the sphinx rendered scikit-learn.org. See: https://github.com/scikit-learn/scikit-learn/issues/21755 */display: inline-block !important;position: relative;}#sk-container-id-1 div.sk-text-repr-fallback {display: none;}</style><div id=\"sk-container-id-1\" class=\"sk-top-container\"><div class=\"sk-text-repr-fallback\"><pre>LogisticRegression()</pre><b>In a Jupyter environment, please rerun this cell to show the HTML representation or trust the notebook. <br />On GitHub, the HTML representation is unable to render, please try loading this page with nbviewer.org.</b></div><div class=\"sk-container\" hidden><div class=\"sk-item\"><div class=\"sk-estimator sk-toggleable\"><input class=\"sk-toggleable__control sk-hidden--visually\" id=\"sk-estimator-id-1\" type=\"checkbox\" checked><label for=\"sk-estimator-id-1\" class=\"sk-toggleable__label sk-toggleable__label-arrow\">LogisticRegression</label><div class=\"sk-toggleable__content\"><pre>LogisticRegression()</pre></div></div></div></div></div>"
      ],
      "text/plain": [
       "LogisticRegression()"
      ]
     },
     "execution_count": 52,
     "metadata": {},
     "output_type": "execute_result"
    }
   ],
   "source": [
    "# Training\n",
    "model = LogisticRegression()\n",
    "model.fit(x_train, y_train)"
   ]
  },
  {
   "cell_type": "code",
   "execution_count": 53,
   "id": "8d862039",
   "metadata": {},
   "outputs": [],
   "source": [
    "# Now let's define a function to get the predictions and set the threshold\n",
    "\n",
    "def predict(model, test_set, threshold):\n",
    "    predictions = model.predict(test_set)\n",
    "    pred_threshold = model.predict_proba(test_set)\n",
    "    test_set[\"prediction\"] = predictions\n",
    "    test_set[\"pred_threshold\"] = (pred_threshold >= threshold)[:, 1].astype(float)\n",
    "    return test_set"
   ]
  },
  {
   "cell_type": "code",
   "execution_count": 54,
   "id": "d372fca2",
   "metadata": {},
   "outputs": [
    {
     "data": {
      "text/html": [
       "<div>\n",
       "<style scoped>\n",
       "    .dataframe tbody tr th:only-of-type {\n",
       "        vertical-align: middle;\n",
       "    }\n",
       "\n",
       "    .dataframe tbody tr th {\n",
       "        vertical-align: top;\n",
       "    }\n",
       "\n",
       "    .dataframe thead th {\n",
       "        text-align: right;\n",
       "    }\n",
       "</style>\n",
       "<table border=\"1\" class=\"dataframe\">\n",
       "  <thead>\n",
       "    <tr style=\"text-align: right;\">\n",
       "      <th></th>\n",
       "      <th>0</th>\n",
       "      <th>1</th>\n",
       "      <th>2</th>\n",
       "      <th>3</th>\n",
       "      <th>4</th>\n",
       "      <th>5</th>\n",
       "      <th>6</th>\n",
       "      <th>7</th>\n",
       "      <th>8</th>\n",
       "      <th>9</th>\n",
       "      <th>prediction</th>\n",
       "      <th>pred_threshold</th>\n",
       "    </tr>\n",
       "  </thead>\n",
       "  <tbody>\n",
       "    <tr>\n",
       "      <th>10230</th>\n",
       "      <td>0.100451</td>\n",
       "      <td>0.0</td>\n",
       "      <td>0.538462</td>\n",
       "      <td>0.009893</td>\n",
       "      <td>0.299647</td>\n",
       "      <td>0.08</td>\n",
       "      <td>0.396353</td>\n",
       "      <td>0.460449</td>\n",
       "      <td>0.000278</td>\n",
       "      <td>0.222222</td>\n",
       "      <td>0.0</td>\n",
       "      <td>0.0</td>\n",
       "    </tr>\n",
       "    <tr>\n",
       "      <th>5812</th>\n",
       "      <td>0.795397</td>\n",
       "      <td>0.0</td>\n",
       "      <td>0.769231</td>\n",
       "      <td>0.000361</td>\n",
       "      <td>0.266745</td>\n",
       "      <td>0.72</td>\n",
       "      <td>0.335133</td>\n",
       "      <td>0.697821</td>\n",
       "      <td>0.039901</td>\n",
       "      <td>0.148148</td>\n",
       "      <td>0.0</td>\n",
       "      <td>0.0</td>\n",
       "    </tr>\n",
       "    <tr>\n",
       "      <th>321</th>\n",
       "      <td>0.147232</td>\n",
       "      <td>1.0</td>\n",
       "      <td>0.846154</td>\n",
       "      <td>0.131688</td>\n",
       "      <td>0.108108</td>\n",
       "      <td>0.52</td>\n",
       "      <td>0.541261</td>\n",
       "      <td>0.580873</td>\n",
       "      <td>0.000490</td>\n",
       "      <td>0.333333</td>\n",
       "      <td>1.0</td>\n",
       "      <td>1.0</td>\n",
       "    </tr>\n",
       "    <tr>\n",
       "      <th>9051</th>\n",
       "      <td>0.043757</td>\n",
       "      <td>0.0</td>\n",
       "      <td>0.692308</td>\n",
       "      <td>0.011997</td>\n",
       "      <td>0.105758</td>\n",
       "      <td>0.68</td>\n",
       "      <td>0.475008</td>\n",
       "      <td>0.910094</td>\n",
       "      <td>0.000171</td>\n",
       "      <td>0.172840</td>\n",
       "      <td>0.0</td>\n",
       "      <td>0.0</td>\n",
       "    </tr>\n",
       "    <tr>\n",
       "      <th>8553</th>\n",
       "      <td>0.806251</td>\n",
       "      <td>1.0</td>\n",
       "      <td>0.384615</td>\n",
       "      <td>0.017652</td>\n",
       "      <td>0.693302</td>\n",
       "      <td>0.02</td>\n",
       "      <td>0.314489</td>\n",
       "      <td>0.812156</td>\n",
       "      <td>0.000217</td>\n",
       "      <td>0.481481</td>\n",
       "      <td>0.0</td>\n",
       "      <td>1.0</td>\n",
       "    </tr>\n",
       "    <tr>\n",
       "      <th>...</th>\n",
       "      <td>...</td>\n",
       "      <td>...</td>\n",
       "      <td>...</td>\n",
       "      <td>...</td>\n",
       "      <td>...</td>\n",
       "      <td>...</td>\n",
       "      <td>...</td>\n",
       "      <td>...</td>\n",
       "      <td>...</td>\n",
       "      <td>...</td>\n",
       "      <td>...</td>\n",
       "      <td>...</td>\n",
       "    </tr>\n",
       "    <tr>\n",
       "      <th>2948</th>\n",
       "      <td>0.146967</td>\n",
       "      <td>1.0</td>\n",
       "      <td>0.153846</td>\n",
       "      <td>0.001322</td>\n",
       "      <td>0.507638</td>\n",
       "      <td>0.28</td>\n",
       "      <td>0.420932</td>\n",
       "      <td>0.775808</td>\n",
       "      <td>0.000409</td>\n",
       "      <td>0.172840</td>\n",
       "      <td>1.0</td>\n",
       "      <td>1.0</td>\n",
       "    </tr>\n",
       "    <tr>\n",
       "      <th>7542</th>\n",
       "      <td>0.252869</td>\n",
       "      <td>0.0</td>\n",
       "      <td>0.538462</td>\n",
       "      <td>0.009003</td>\n",
       "      <td>0.847239</td>\n",
       "      <td>0.28</td>\n",
       "      <td>0.438399</td>\n",
       "      <td>0.771440</td>\n",
       "      <td>0.000209</td>\n",
       "      <td>0.395062</td>\n",
       "      <td>0.0</td>\n",
       "      <td>0.0</td>\n",
       "    </tr>\n",
       "    <tr>\n",
       "      <th>8358</th>\n",
       "      <td>0.705748</td>\n",
       "      <td>0.5</td>\n",
       "      <td>0.923077</td>\n",
       "      <td>0.001610</td>\n",
       "      <td>0.636898</td>\n",
       "      <td>0.68</td>\n",
       "      <td>0.444493</td>\n",
       "      <td>0.938593</td>\n",
       "      <td>0.542668</td>\n",
       "      <td>0.592593</td>\n",
       "      <td>0.0</td>\n",
       "      <td>0.0</td>\n",
       "    </tr>\n",
       "    <tr>\n",
       "      <th>2045</th>\n",
       "      <td>0.836200</td>\n",
       "      <td>1.0</td>\n",
       "      <td>0.846154</td>\n",
       "      <td>0.174256</td>\n",
       "      <td>0.200940</td>\n",
       "      <td>0.72</td>\n",
       "      <td>0.340105</td>\n",
       "      <td>0.700063</td>\n",
       "      <td>0.000506</td>\n",
       "      <td>0.246914</td>\n",
       "      <td>1.0</td>\n",
       "      <td>1.0</td>\n",
       "    </tr>\n",
       "    <tr>\n",
       "      <th>5168</th>\n",
       "      <td>0.222707</td>\n",
       "      <td>0.0</td>\n",
       "      <td>0.384615</td>\n",
       "      <td>0.004971</td>\n",
       "      <td>0.159812</td>\n",
       "      <td>0.28</td>\n",
       "      <td>0.427935</td>\n",
       "      <td>0.787705</td>\n",
       "      <td>0.000157</td>\n",
       "      <td>0.555556</td>\n",
       "      <td>0.0</td>\n",
       "      <td>0.0</td>\n",
       "    </tr>\n",
       "  </tbody>\n",
       "</table>\n",
       "<p>2062 rows × 12 columns</p>\n",
       "</div>"
      ],
      "text/plain": [
       "              0    1         2         3         4     5         6         7  \\\n",
       "10230  0.100451  0.0  0.538462  0.009893  0.299647  0.08  0.396353  0.460449   \n",
       "5812   0.795397  0.0  0.769231  0.000361  0.266745  0.72  0.335133  0.697821   \n",
       "321    0.147232  1.0  0.846154  0.131688  0.108108  0.52  0.541261  0.580873   \n",
       "9051   0.043757  0.0  0.692308  0.011997  0.105758  0.68  0.475008  0.910094   \n",
       "8553   0.806251  1.0  0.384615  0.017652  0.693302  0.02  0.314489  0.812156   \n",
       "...         ...  ...       ...       ...       ...   ...       ...       ...   \n",
       "2948   0.146967  1.0  0.153846  0.001322  0.507638  0.28  0.420932  0.775808   \n",
       "7542   0.252869  0.0  0.538462  0.009003  0.847239  0.28  0.438399  0.771440   \n",
       "8358   0.705748  0.5  0.923077  0.001610  0.636898  0.68  0.444493  0.938593   \n",
       "2045   0.836200  1.0  0.846154  0.174256  0.200940  0.72  0.340105  0.700063   \n",
       "5168   0.222707  0.0  0.384615  0.004971  0.159812  0.28  0.427935  0.787705   \n",
       "\n",
       "              8         9  prediction  pred_threshold  \n",
       "10230  0.000278  0.222222         0.0             0.0  \n",
       "5812   0.039901  0.148148         0.0             0.0  \n",
       "321    0.000490  0.333333         1.0             1.0  \n",
       "9051   0.000171  0.172840         0.0             0.0  \n",
       "8553   0.000217  0.481481         0.0             1.0  \n",
       "...         ...       ...         ...             ...  \n",
       "2948   0.000409  0.172840         1.0             1.0  \n",
       "7542   0.000209  0.395062         0.0             0.0  \n",
       "8358   0.542668  0.592593         0.0             0.0  \n",
       "2045   0.000506  0.246914         1.0             1.0  \n",
       "5168   0.000157  0.555556         0.0             0.0  \n",
       "\n",
       "[2062 rows x 12 columns]"
      ]
     },
     "execution_count": 54,
     "metadata": {},
     "output_type": "execute_result"
    }
   ],
   "source": [
    "# Use 0.4 as threshold for LR model\n",
    "predict(model, x_test, 0.4)"
   ]
  },
  {
   "cell_type": "code",
   "execution_count": 55,
   "id": "71342766",
   "metadata": {},
   "outputs": [],
   "source": [
    "y_test = pd.DataFrame(y_test)"
   ]
  },
  {
   "cell_type": "code",
   "execution_count": 56,
   "id": "19be4b6d",
   "metadata": {},
   "outputs": [],
   "source": [
    "x_test[\"real\"] = y_test[\"is_fraud\"]"
   ]
  },
  {
   "cell_type": "code",
   "execution_count": 57,
   "id": "40e2ae14",
   "metadata": {},
   "outputs": [
    {
     "data": {
      "text/html": [
       "<div>\n",
       "<style scoped>\n",
       "    .dataframe tbody tr th:only-of-type {\n",
       "        vertical-align: middle;\n",
       "    }\n",
       "\n",
       "    .dataframe tbody tr th {\n",
       "        vertical-align: top;\n",
       "    }\n",
       "\n",
       "    .dataframe thead th {\n",
       "        text-align: right;\n",
       "    }\n",
       "</style>\n",
       "<table border=\"1\" class=\"dataframe\">\n",
       "  <thead>\n",
       "    <tr style=\"text-align: right;\">\n",
       "      <th></th>\n",
       "      <th>0</th>\n",
       "      <th>1</th>\n",
       "      <th>2</th>\n",
       "      <th>3</th>\n",
       "      <th>4</th>\n",
       "      <th>5</th>\n",
       "      <th>6</th>\n",
       "      <th>7</th>\n",
       "      <th>8</th>\n",
       "      <th>9</th>\n",
       "      <th>prediction</th>\n",
       "      <th>pred_threshold</th>\n",
       "      <th>real</th>\n",
       "    </tr>\n",
       "  </thead>\n",
       "  <tbody>\n",
       "    <tr>\n",
       "      <th>10230</th>\n",
       "      <td>0.100451</td>\n",
       "      <td>0.0</td>\n",
       "      <td>0.538462</td>\n",
       "      <td>0.009893</td>\n",
       "      <td>0.299647</td>\n",
       "      <td>0.08</td>\n",
       "      <td>0.396353</td>\n",
       "      <td>0.460449</td>\n",
       "      <td>0.000278</td>\n",
       "      <td>0.222222</td>\n",
       "      <td>0.0</td>\n",
       "      <td>0.0</td>\n",
       "      <td>0.0</td>\n",
       "    </tr>\n",
       "    <tr>\n",
       "      <th>5812</th>\n",
       "      <td>0.795397</td>\n",
       "      <td>0.0</td>\n",
       "      <td>0.769231</td>\n",
       "      <td>0.000361</td>\n",
       "      <td>0.266745</td>\n",
       "      <td>0.72</td>\n",
       "      <td>0.335133</td>\n",
       "      <td>0.697821</td>\n",
       "      <td>0.039901</td>\n",
       "      <td>0.148148</td>\n",
       "      <td>0.0</td>\n",
       "      <td>0.0</td>\n",
       "      <td>0.0</td>\n",
       "    </tr>\n",
       "    <tr>\n",
       "      <th>321</th>\n",
       "      <td>0.147232</td>\n",
       "      <td>1.0</td>\n",
       "      <td>0.846154</td>\n",
       "      <td>0.131688</td>\n",
       "      <td>0.108108</td>\n",
       "      <td>0.52</td>\n",
       "      <td>0.541261</td>\n",
       "      <td>0.580873</td>\n",
       "      <td>0.000490</td>\n",
       "      <td>0.333333</td>\n",
       "      <td>1.0</td>\n",
       "      <td>1.0</td>\n",
       "      <td>1.0</td>\n",
       "    </tr>\n",
       "    <tr>\n",
       "      <th>9051</th>\n",
       "      <td>0.043757</td>\n",
       "      <td>0.0</td>\n",
       "      <td>0.692308</td>\n",
       "      <td>0.011997</td>\n",
       "      <td>0.105758</td>\n",
       "      <td>0.68</td>\n",
       "      <td>0.475008</td>\n",
       "      <td>0.910094</td>\n",
       "      <td>0.000171</td>\n",
       "      <td>0.172840</td>\n",
       "      <td>0.0</td>\n",
       "      <td>0.0</td>\n",
       "      <td>0.0</td>\n",
       "    </tr>\n",
       "    <tr>\n",
       "      <th>8553</th>\n",
       "      <td>0.806251</td>\n",
       "      <td>1.0</td>\n",
       "      <td>0.384615</td>\n",
       "      <td>0.017652</td>\n",
       "      <td>0.693302</td>\n",
       "      <td>0.02</td>\n",
       "      <td>0.314489</td>\n",
       "      <td>0.812156</td>\n",
       "      <td>0.000217</td>\n",
       "      <td>0.481481</td>\n",
       "      <td>0.0</td>\n",
       "      <td>1.0</td>\n",
       "      <td>0.0</td>\n",
       "    </tr>\n",
       "  </tbody>\n",
       "</table>\n",
       "</div>"
      ],
      "text/plain": [
       "              0    1         2         3         4     5         6         7  \\\n",
       "10230  0.100451  0.0  0.538462  0.009893  0.299647  0.08  0.396353  0.460449   \n",
       "5812   0.795397  0.0  0.769231  0.000361  0.266745  0.72  0.335133  0.697821   \n",
       "321    0.147232  1.0  0.846154  0.131688  0.108108  0.52  0.541261  0.580873   \n",
       "9051   0.043757  0.0  0.692308  0.011997  0.105758  0.68  0.475008  0.910094   \n",
       "8553   0.806251  1.0  0.384615  0.017652  0.693302  0.02  0.314489  0.812156   \n",
       "\n",
       "              8         9  prediction  pred_threshold  real  \n",
       "10230  0.000278  0.222222         0.0             0.0   0.0  \n",
       "5812   0.039901  0.148148         0.0             0.0   0.0  \n",
       "321    0.000490  0.333333         1.0             1.0   1.0  \n",
       "9051   0.000171  0.172840         0.0             0.0   0.0  \n",
       "8553   0.000217  0.481481         0.0             1.0   0.0  "
      ]
     },
     "execution_count": 57,
     "metadata": {},
     "output_type": "execute_result"
    }
   ],
   "source": [
    "x_test.head(5)"
   ]
  },
  {
   "cell_type": "code",
   "execution_count": 58,
   "id": "8b9f3dc3",
   "metadata": {},
   "outputs": [
    {
     "name": "stdout",
     "output_type": "stream",
     "text": [
      "              precision    recall  f1-score   support\n",
      "\n",
      "         0.0       0.81      0.84      0.83      1019\n",
      "         1.0       0.84      0.81      0.83      1043\n",
      "\n",
      "    accuracy                           0.83      2062\n",
      "   macro avg       0.83      0.83      0.83      2062\n",
      "weighted avg       0.83      0.83      0.83      2062\n",
      "\n"
     ]
    }
   ],
   "source": [
    "# With 0.5 threshold\n",
    "print(classification_report(x_test['real'], x_test['prediction']))"
   ]
  },
  {
   "cell_type": "code",
   "execution_count": 59,
   "id": "63c20a09",
   "metadata": {},
   "outputs": [
    {
     "name": "stdout",
     "output_type": "stream",
     "text": [
      "              precision    recall  f1-score   support\n",
      "\n",
      "         0.0       0.89      0.74      0.81      1019\n",
      "         1.0       0.78      0.91      0.84      1043\n",
      "\n",
      "    accuracy                           0.83      2062\n",
      "   macro avg       0.84      0.83      0.83      2062\n",
      "weighted avg       0.84      0.83      0.83      2062\n",
      "\n"
     ]
    }
   ],
   "source": [
    "# With 0.4 threshold\n",
    "print(classification_report(x_test['real'], x_test['pred_threshold']))"
   ]
  },
  {
   "cell_type": "code",
   "execution_count": 60,
   "id": "7c9d73f0",
   "metadata": {},
   "outputs": [],
   "source": [
    "# Let's define now a function to get the confusion matrix\n",
    "def confusion_matrix_plot(test_set, pred_label, model):\n",
    "    cm = confusion_matrix(x_test['real'], x_test[pred_label], labels=model.classes_)\n",
    "    disp = ConfusionMatrixDisplay(confusion_matrix=cm,\n",
    "                              display_labels=model.classes_)\n",
    "    disp.plot()\n",
    "    plt.show()"
   ]
  },
  {
   "cell_type": "code",
   "execution_count": 61,
   "id": "32187356",
   "metadata": {},
   "outputs": [
    {
     "data": {
      "image/png": "[encoded data removed]",
      "text/plain": [
       "<Figure size 640x480 with 2 Axes>"
      ]
     },
     "metadata": {},
     "output_type": "display_data"
    }
   ],
   "source": [
    "confusion_matrix_plot(x_test, 'prediction', model)"
   ]
  },
  {
   "cell_type": "code",
   "execution_count": 62,
   "id": "5126990d",
   "metadata": {},
   "outputs": [
    {
     "data": {
      "image/png": "[encoded data removed]",
      "text/plain": [
       "<Figure size 640x480 with 2 Axes>"
      ]
     },
     "metadata": {},
     "output_type": "display_data"
    }
   ],
   "source": [
    "confusion_matrix_plot(x_test, 'pred_threshold', model)"
   ]
  },
  {
   "cell_type": "markdown",
   "id": "1da422c8",
   "metadata": {},
   "source": [
    "# SVM Classifier Model"
   ]
  },
  {
   "cell_type": "code",
   "execution_count": 63,
   "id": "698d23ab",
   "metadata": {},
   "outputs": [],
   "source": [
    "from sklearn.svm import SVC"
   ]
  },
  {
   "cell_type": "code",
   "execution_count": 64,
   "id": "1ff8f5bc",
   "metadata": {},
   "outputs": [],
   "source": [
    "model_SVM = SVC(probability = True, random_state=42)"
   ]
  },
  {
   "cell_type": "code",
   "execution_count": 65,
   "id": "e273699e",
   "metadata": {},
   "outputs": [
    {
     "data": {
      "text/html": [
       "<style>#sk-container-id-2 {color: black;background-color: white;}#sk-container-id-2 pre{padding: 0;}#sk-container-id-2 div.sk-toggleable {background-color: white;}#sk-container-id-2 label.sk-toggleable__label {cursor: pointer;display: block;width: 100%;margin-bottom: 0;padding: 0.3em;box-sizing: border-box;text-align: center;}#sk-container-id-2 label.sk-toggleable__label-arrow:before {content: \"▸\";float: left;margin-right: 0.25em;color: #696969;}#sk-container-id-2 label.sk-toggleable__label-arrow:hover:before {color: black;}#sk-container-id-2 div.sk-estimator:hover label.sk-toggleable__label-arrow:before {color: black;}#sk-container-id-2 div.sk-toggleable__content {max-height: 0;max-width: 0;overflow: hidden;text-align: left;background-color: #f0f8ff;}#sk-container-id-2 div.sk-toggleable__content pre {margin: 0.2em;color: black;border-radius: 0.25em;background-color: #f0f8ff;}#sk-container-id-2 input.sk-toggleable__control:checked~div.sk-toggleable__content {max-height: 200px;max-width: 100%;overflow: auto;}#sk-container-id-2 input.sk-toggleable__control:checked~label.sk-toggleable__label-arrow:before {content: \"▾\";}#sk-container-id-2 div.sk-estimator input.sk-toggleable__control:checked~label.sk-toggleable__label {background-color: #d4ebff;}#sk-container-id-2 div.sk-label input.sk-toggleable__control:checked~label.sk-toggleable__label {background-color: #d4ebff;}#sk-container-id-2 input.sk-hidden--visually {border: 0;clip: rect(1px 1px 1px 1px);clip: rect(1px, 1px, 1px, 1px);height: 1px;margin: -1px;overflow: hidden;padding: 0;position: absolute;width: 1px;}#sk-container-id-2 div.sk-estimator {font-family: monospace;background-color: #f0f8ff;border: 1px dotted black;border-radius: 0.25em;box-sizing: border-box;margin-bottom: 0.5em;}#sk-container-id-2 div.sk-estimator:hover {background-color: #d4ebff;}#sk-container-id-2 div.sk-parallel-item::after {content: \"\";width: 100%;border-bottom: 1px solid gray;flex-grow: 1;}#sk-container-id-2 div.sk-label:hover label.sk-toggleable__label {background-color: #d4ebff;}#sk-container-id-2 div.sk-serial::before {content: \"\";position: absolute;border-left: 1px solid gray;box-sizing: border-box;top: 0;bottom: 0;left: 50%;z-index: 0;}#sk-container-id-2 div.sk-serial {display: flex;flex-direction: column;align-items: center;background-color: white;padding-right: 0.2em;padding-left: 0.2em;position: relative;}#sk-container-id-2 div.sk-item {position: relative;z-index: 1;}#sk-container-id-2 div.sk-parallel {display: flex;align-items: stretch;justify-content: center;background-color: white;position: relative;}#sk-container-id-2 div.sk-item::before, #sk-container-id-2 div.sk-parallel-item::before {content: \"\";position: absolute;border-left: 1px solid gray;box-sizing: border-box;top: 0;bottom: 0;left: 50%;z-index: -1;}#sk-container-id-2 div.sk-parallel-item {display: flex;flex-direction: column;z-index: 1;position: relative;background-color: white;}#sk-container-id-2 div.sk-parallel-item:first-child::after {align-self: flex-end;width: 50%;}#sk-container-id-2 div.sk-parallel-item:last-child::after {align-self: flex-start;width: 50%;}#sk-container-id-2 div.sk-parallel-item:only-child::after {width: 0;}#sk-container-id-2 div.sk-dashed-wrapped {border: 1px dashed gray;margin: 0 0.4em 0.5em 0.4em;box-sizing: border-box;padding-bottom: 0.4em;background-color: white;}#sk-container-id-2 div.sk-label label {font-family: monospace;font-weight: bold;display: inline-block;line-height: 1.2em;}#sk-container-id-2 div.sk-label-container {text-align: center;}#sk-container-id-2 div.sk-container {/* jupyter's `normalize.less` sets `[hidden] { display: none; }` but bootstrap.min.css set `[hidden] { display: none !important; }` so we also need the `!important` here to be able to override the default hidden behavior on the sphinx rendered scikit-learn.org. See: https://github.com/scikit-learn/scikit-learn/issues/21755 */display: inline-block !important;position: relative;}#sk-container-id-2 div.sk-text-repr-fallback {display: none;}</style><div id=\"sk-container-id-2\" class=\"sk-top-container\"><div class=\"sk-text-repr-fallback\"><pre>SVC(probability=True, random_state=42)</pre><b>In a Jupyter environment, please rerun this cell to show the HTML representation or trust the notebook. <br />On GitHub, the HTML representation is unable to render, please try loading this page with nbviewer.org.</b></div><div class=\"sk-container\" hidden><div class=\"sk-item\"><div class=\"sk-estimator sk-toggleable\"><input class=\"sk-toggleable__control sk-hidden--visually\" id=\"sk-estimator-id-2\" type=\"checkbox\" checked><label for=\"sk-estimator-id-2\" class=\"sk-toggleable__label sk-toggleable__label-arrow\">SVC</label><div class=\"sk-toggleable__content\"><pre>SVC(probability=True, random_state=42)</pre></div></div></div></div></div>"
      ],
      "text/plain": [
       "SVC(probability=True, random_state=42)"
      ]
     },
     "execution_count": 65,
     "metadata": {},
     "output_type": "execute_result"
    }
   ],
   "source": [
    "model_SVM.fit(x_train, y_train)"
   ]
  },
  {
   "cell_type": "code",
   "execution_count": 66,
   "id": "ed9820cf",
   "metadata": {},
   "outputs": [],
   "source": [
    "# Dropping our last predictions\n",
    "x_test = x_test.drop(columns = {'prediction','pred_threshold' ,'real'})"
   ]
  },
  {
   "cell_type": "code",
   "execution_count": 67,
   "id": "3f0e9cd3",
   "metadata": {},
   "outputs": [
    {
     "data": {
      "text/html": [
       "<div>\n",
       "<style scoped>\n",
       "    .dataframe tbody tr th:only-of-type {\n",
       "        vertical-align: middle;\n",
       "    }\n",
       "\n",
       "    .dataframe tbody tr th {\n",
       "        vertical-align: top;\n",
       "    }\n",
       "\n",
       "    .dataframe thead th {\n",
       "        text-align: right;\n",
       "    }\n",
       "</style>\n",
       "<table border=\"1\" class=\"dataframe\">\n",
       "  <thead>\n",
       "    <tr style=\"text-align: right;\">\n",
       "      <th></th>\n",
       "      <th>0</th>\n",
       "      <th>1</th>\n",
       "      <th>2</th>\n",
       "      <th>3</th>\n",
       "      <th>4</th>\n",
       "      <th>5</th>\n",
       "      <th>6</th>\n",
       "      <th>7</th>\n",
       "      <th>8</th>\n",
       "      <th>9</th>\n",
       "      <th>prediction</th>\n",
       "      <th>pred_threshold</th>\n",
       "    </tr>\n",
       "  </thead>\n",
       "  <tbody>\n",
       "    <tr>\n",
       "      <th>10230</th>\n",
       "      <td>0.100451</td>\n",
       "      <td>0.0</td>\n",
       "      <td>0.538462</td>\n",
       "      <td>0.009893</td>\n",
       "      <td>0.299647</td>\n",
       "      <td>0.08</td>\n",
       "      <td>0.396353</td>\n",
       "      <td>0.460449</td>\n",
       "      <td>0.000278</td>\n",
       "      <td>0.222222</td>\n",
       "      <td>0.0</td>\n",
       "      <td>0.0</td>\n",
       "    </tr>\n",
       "    <tr>\n",
       "      <th>5812</th>\n",
       "      <td>0.795397</td>\n",
       "      <td>0.0</td>\n",
       "      <td>0.769231</td>\n",
       "      <td>0.000361</td>\n",
       "      <td>0.266745</td>\n",
       "      <td>0.72</td>\n",
       "      <td>0.335133</td>\n",
       "      <td>0.697821</td>\n",
       "      <td>0.039901</td>\n",
       "      <td>0.148148</td>\n",
       "      <td>0.0</td>\n",
       "      <td>0.0</td>\n",
       "    </tr>\n",
       "    <tr>\n",
       "      <th>321</th>\n",
       "      <td>0.147232</td>\n",
       "      <td>1.0</td>\n",
       "      <td>0.846154</td>\n",
       "      <td>0.131688</td>\n",
       "      <td>0.108108</td>\n",
       "      <td>0.52</td>\n",
       "      <td>0.541261</td>\n",
       "      <td>0.580873</td>\n",
       "      <td>0.000490</td>\n",
       "      <td>0.333333</td>\n",
       "      <td>1.0</td>\n",
       "      <td>1.0</td>\n",
       "    </tr>\n",
       "    <tr>\n",
       "      <th>9051</th>\n",
       "      <td>0.043757</td>\n",
       "      <td>0.0</td>\n",
       "      <td>0.692308</td>\n",
       "      <td>0.011997</td>\n",
       "      <td>0.105758</td>\n",
       "      <td>0.68</td>\n",
       "      <td>0.475008</td>\n",
       "      <td>0.910094</td>\n",
       "      <td>0.000171</td>\n",
       "      <td>0.172840</td>\n",
       "      <td>0.0</td>\n",
       "      <td>0.0</td>\n",
       "    </tr>\n",
       "    <tr>\n",
       "      <th>8553</th>\n",
       "      <td>0.806251</td>\n",
       "      <td>1.0</td>\n",
       "      <td>0.384615</td>\n",
       "      <td>0.017652</td>\n",
       "      <td>0.693302</td>\n",
       "      <td>0.02</td>\n",
       "      <td>0.314489</td>\n",
       "      <td>0.812156</td>\n",
       "      <td>0.000217</td>\n",
       "      <td>0.481481</td>\n",
       "      <td>0.0</td>\n",
       "      <td>1.0</td>\n",
       "    </tr>\n",
       "    <tr>\n",
       "      <th>...</th>\n",
       "      <td>...</td>\n",
       "      <td>...</td>\n",
       "      <td>...</td>\n",
       "      <td>...</td>\n",
       "      <td>...</td>\n",
       "      <td>...</td>\n",
       "      <td>...</td>\n",
       "      <td>...</td>\n",
       "      <td>...</td>\n",
       "      <td>...</td>\n",
       "      <td>...</td>\n",
       "      <td>...</td>\n",
       "    </tr>\n",
       "    <tr>\n",
       "      <th>2948</th>\n",
       "      <td>0.146967</td>\n",
       "      <td>1.0</td>\n",
       "      <td>0.153846</td>\n",
       "      <td>0.001322</td>\n",
       "      <td>0.507638</td>\n",
       "      <td>0.28</td>\n",
       "      <td>0.420932</td>\n",
       "      <td>0.775808</td>\n",
       "      <td>0.000409</td>\n",
       "      <td>0.172840</td>\n",
       "      <td>1.0</td>\n",
       "      <td>1.0</td>\n",
       "    </tr>\n",
       "    <tr>\n",
       "      <th>7542</th>\n",
       "      <td>0.252869</td>\n",
       "      <td>0.0</td>\n",
       "      <td>0.538462</td>\n",
       "      <td>0.009003</td>\n",
       "      <td>0.847239</td>\n",
       "      <td>0.28</td>\n",
       "      <td>0.438399</td>\n",
       "      <td>0.771440</td>\n",
       "      <td>0.000209</td>\n",
       "      <td>0.395062</td>\n",
       "      <td>0.0</td>\n",
       "      <td>0.0</td>\n",
       "    </tr>\n",
       "    <tr>\n",
       "      <th>8358</th>\n",
       "      <td>0.705748</td>\n",
       "      <td>0.5</td>\n",
       "      <td>0.923077</td>\n",
       "      <td>0.001610</td>\n",
       "      <td>0.636898</td>\n",
       "      <td>0.68</td>\n",
       "      <td>0.444493</td>\n",
       "      <td>0.938593</td>\n",
       "      <td>0.542668</td>\n",
       "      <td>0.592593</td>\n",
       "      <td>0.0</td>\n",
       "      <td>0.0</td>\n",
       "    </tr>\n",
       "    <tr>\n",
       "      <th>2045</th>\n",
       "      <td>0.836200</td>\n",
       "      <td>1.0</td>\n",
       "      <td>0.846154</td>\n",
       "      <td>0.174256</td>\n",
       "      <td>0.200940</td>\n",
       "      <td>0.72</td>\n",
       "      <td>0.340105</td>\n",
       "      <td>0.700063</td>\n",
       "      <td>0.000506</td>\n",
       "      <td>0.246914</td>\n",
       "      <td>1.0</td>\n",
       "      <td>1.0</td>\n",
       "    </tr>\n",
       "    <tr>\n",
       "      <th>5168</th>\n",
       "      <td>0.222707</td>\n",
       "      <td>0.0</td>\n",
       "      <td>0.384615</td>\n",
       "      <td>0.004971</td>\n",
       "      <td>0.159812</td>\n",
       "      <td>0.28</td>\n",
       "      <td>0.427935</td>\n",
       "      <td>0.787705</td>\n",
       "      <td>0.000157</td>\n",
       "      <td>0.555556</td>\n",
       "      <td>0.0</td>\n",
       "      <td>0.0</td>\n",
       "    </tr>\n",
       "  </tbody>\n",
       "</table>\n",
       "<p>2062 rows × 12 columns</p>\n",
       "</div>"
      ],
      "text/plain": [
       "              0    1         2         3         4     5         6         7  \\\n",
       "10230  0.100451  0.0  0.538462  0.009893  0.299647  0.08  0.396353  0.460449   \n",
       "5812   0.795397  0.0  0.769231  0.000361  0.266745  0.72  0.335133  0.697821   \n",
       "321    0.147232  1.0  0.846154  0.131688  0.108108  0.52  0.541261  0.580873   \n",
       "9051   0.043757  0.0  0.692308  0.011997  0.105758  0.68  0.475008  0.910094   \n",
       "8553   0.806251  1.0  0.384615  0.017652  0.693302  0.02  0.314489  0.812156   \n",
       "...         ...  ...       ...       ...       ...   ...       ...       ...   \n",
       "2948   0.146967  1.0  0.153846  0.001322  0.507638  0.28  0.420932  0.775808   \n",
       "7542   0.252869  0.0  0.538462  0.009003  0.847239  0.28  0.438399  0.771440   \n",
       "8358   0.705748  0.5  0.923077  0.001610  0.636898  0.68  0.444493  0.938593   \n",
       "2045   0.836200  1.0  0.846154  0.174256  0.200940  0.72  0.340105  0.700063   \n",
       "5168   0.222707  0.0  0.384615  0.004971  0.159812  0.28  0.427935  0.787705   \n",
       "\n",
       "              8         9  prediction  pred_threshold  \n",
       "10230  0.000278  0.222222         0.0             0.0  \n",
       "5812   0.039901  0.148148         0.0             0.0  \n",
       "321    0.000490  0.333333         1.0             1.0  \n",
       "9051   0.000171  0.172840         0.0             0.0  \n",
       "8553   0.000217  0.481481         0.0             1.0  \n",
       "...         ...       ...         ...             ...  \n",
       "2948   0.000409  0.172840         1.0             1.0  \n",
       "7542   0.000209  0.395062         0.0             0.0  \n",
       "8358   0.542668  0.592593         0.0             0.0  \n",
       "2045   0.000506  0.246914         1.0             1.0  \n",
       "5168   0.000157  0.555556         0.0             0.0  \n",
       "\n",
       "[2062 rows x 12 columns]"
      ]
     },
     "execution_count": 67,
     "metadata": {},
     "output_type": "execute_result"
    }
   ],
   "source": [
    "# Use 0.4 as threshold for LR model\n",
    "predict(model_SVM, x_test, 0.4)"
   ]
  },
  {
   "cell_type": "code",
   "execution_count": 68,
   "id": "ed1a4484",
   "metadata": {},
   "outputs": [
    {
     "name": "stdout",
     "output_type": "stream",
     "text": [
      "              precision    recall  f1-score   support\n",
      "\n",
      "         0.0       0.84      0.84      0.84      1019\n",
      "         1.0       0.84      0.84      0.84      1043\n",
      "\n",
      "    accuracy                           0.84      2062\n",
      "   macro avg       0.84      0.84      0.84      2062\n",
      "weighted avg       0.84      0.84      0.84      2062\n",
      "\n",
      "              precision    recall  f1-score   support\n",
      "\n",
      "         0.0       0.85      0.82      0.84      1019\n",
      "         1.0       0.83      0.86      0.84      1043\n",
      "\n",
      "    accuracy                           0.84      2062\n",
      "   macro avg       0.84      0.84      0.84      2062\n",
      "weighted avg       0.84      0.84      0.84      2062\n",
      "\n"
     ]
    }
   ],
   "source": [
    "x_test[\"real\"] = y_test[\"is_fraud\"]\n",
    "\n",
    "# With 0.5 threshold\n",
    "print(classification_report(x_test['real'], x_test['prediction']))\n",
    "# With 0.4 threshold\n",
    "print(classification_report(x_test['real'], x_test['pred_threshold']))"
   ]
  },
  {
   "cell_type": "code",
   "execution_count": 69,
   "id": "69e1aa46",
   "metadata": {},
   "outputs": [
    {
     "data": {
      "image/png": "[encoded data removed]",
      "text/plain": [
       "<Figure size 640x480 with 2 Axes>"
      ]
     },
     "metadata": {},
     "output_type": "display_data"
    }
   ],
   "source": [
    "confusion_matrix_plot(x_test, 'pred_threshold', model_SVM)"
   ]
  },
  {
   "cell_type": "code",
   "execution_count": 71,
   "id": "74864725",
   "metadata": {},
   "outputs": [],
   "source": [
    "from xgboost import XGBClassifier\n",
    "# XGBoost classifier model\n",
    "xgb = XGBClassifier(objective='binary:logistic')"
   ]
  },
  {
   "cell_type": "code",
   "execution_count": 72,
   "id": "6a6e8779",
   "metadata": {},
   "outputs": [
    {
     "data": {
      "text/html": [
       "<style>#sk-container-id-3 {color: black;background-color: white;}#sk-container-id-3 pre{padding: 0;}#sk-container-id-3 div.sk-toggleable {background-color: white;}#sk-container-id-3 label.sk-toggleable__label {cursor: pointer;display: block;width: 100%;margin-bottom: 0;padding: 0.3em;box-sizing: border-box;text-align: center;}#sk-container-id-3 label.sk-toggleable__label-arrow:before {content: \"▸\";float: left;margin-right: 0.25em;color: #696969;}#sk-container-id-3 label.sk-toggleable__label-arrow:hover:before {color: black;}#sk-container-id-3 div.sk-estimator:hover label.sk-toggleable__label-arrow:before {color: black;}#sk-container-id-3 div.sk-toggleable__content {max-height: 0;max-width: 0;overflow: hidden;text-align: left;background-color: #f0f8ff;}#sk-container-id-3 div.sk-toggleable__content pre {margin: 0.2em;color: black;border-radius: 0.25em;background-color: #f0f8ff;}#sk-container-id-3 input.sk-toggleable__control:checked~div.sk-toggleable__content {max-height: 200px;max-width: 100%;overflow: auto;}#sk-container-id-3 input.sk-toggleable__control:checked~label.sk-toggleable__label-arrow:before {content: \"▾\";}#sk-container-id-3 div.sk-estimator input.sk-toggleable__control:checked~label.sk-toggleable__label {background-color: #d4ebff;}#sk-container-id-3 div.sk-label input.sk-toggleable__control:checked~label.sk-toggleable__label {background-color: #d4ebff;}#sk-container-id-3 input.sk-hidden--visually {border: 0;clip: rect(1px 1px 1px 1px);clip: rect(1px, 1px, 1px, 1px);height: 1px;margin: -1px;overflow: hidden;padding: 0;position: absolute;width: 1px;}#sk-container-id-3 div.sk-estimator {font-family: monospace;background-color: #f0f8ff;border: 1px dotted black;border-radius: 0.25em;box-sizing: border-box;margin-bottom: 0.5em;}#sk-container-id-3 div.sk-estimator:hover {background-color: #d4ebff;}#sk-container-id-3 div.sk-parallel-item::after {content: \"\";width: 100%;border-bottom: 1px solid gray;flex-grow: 1;}#sk-container-id-3 div.sk-label:hover label.sk-toggleable__label {background-color: #d4ebff;}#sk-container-id-3 div.sk-serial::before {content: \"\";position: absolute;border-left: 1px solid gray;box-sizing: border-box;top: 0;bottom: 0;left: 50%;z-index: 0;}#sk-container-id-3 div.sk-serial {display: flex;flex-direction: column;align-items: center;background-color: white;padding-right: 0.2em;padding-left: 0.2em;position: relative;}#sk-container-id-3 div.sk-item {position: relative;z-index: 1;}#sk-container-id-3 div.sk-parallel {display: flex;align-items: stretch;justify-content: center;background-color: white;position: relative;}#sk-container-id-3 div.sk-item::before, #sk-container-id-3 div.sk-parallel-item::before {content: \"\";position: absolute;border-left: 1px solid gray;box-sizing: border-box;top: 0;bottom: 0;left: 50%;z-index: -1;}#sk-container-id-3 div.sk-parallel-item {display: flex;flex-direction: column;z-index: 1;position: relative;background-color: white;}#sk-container-id-3 div.sk-parallel-item:first-child::after {align-self: flex-end;width: 50%;}#sk-container-id-3 div.sk-parallel-item:last-child::after {align-self: flex-start;width: 50%;}#sk-container-id-3 div.sk-parallel-item:only-child::after {width: 0;}#sk-container-id-3 div.sk-dashed-wrapped {border: 1px dashed gray;margin: 0 0.4em 0.5em 0.4em;box-sizing: border-box;padding-bottom: 0.4em;background-color: white;}#sk-container-id-3 div.sk-label label {font-family: monospace;font-weight: bold;display: inline-block;line-height: 1.2em;}#sk-container-id-3 div.sk-label-container {text-align: center;}#sk-container-id-3 div.sk-container {/* jupyter's `normalize.less` sets `[hidden] { display: none; }` but bootstrap.min.css set `[hidden] { display: none !important; }` so we also need the `!important` here to be able to override the default hidden behavior on the sphinx rendered scikit-learn.org. See: https://github.com/scikit-learn/scikit-learn/issues/21755 */display: inline-block !important;position: relative;}#sk-container-id-3 div.sk-text-repr-fallback {display: none;}</style><div id=\"sk-container-id-3\" class=\"sk-top-container\"><div class=\"sk-text-repr-fallback\"><pre>XGBClassifier(base_score=None, booster=None, callbacks=None,\n",
       "              colsample_bylevel=None, colsample_bynode=None,\n",
       "              colsample_bytree=None, device=None, early_stopping_rounds=None,\n",
       "              enable_categorical=False, eval_metric=None, feature_types=None,\n",
       "              gamma=None, grow_policy=None, importance_type=None,\n",
       "              interaction_constraints=None, learning_rate=None, max_bin=None,\n",
       "              max_cat_threshold=None, max_cat_to_onehot=None,\n",
       "              max_delta_step=None, max_depth=None, max_leaves=None,\n",
       "              min_child_weight=None, missing=nan, monotone_constraints=None,\n",
       "              multi_strategy=None, n_estimators=None, n_jobs=None,\n",
       "              num_parallel_tree=None, random_state=None, ...)</pre><b>In a Jupyter environment, please rerun this cell to show the HTML representation or trust the notebook. <br />On GitHub, the HTML representation is unable to render, please try loading this page with nbviewer.org.</b></div><div class=\"sk-container\" hidden><div class=\"sk-item\"><div class=\"sk-estimator sk-toggleable\"><input class=\"sk-toggleable__control sk-hidden--visually\" id=\"sk-estimator-id-3\" type=\"checkbox\" checked><label for=\"sk-estimator-id-3\" class=\"sk-toggleable__label sk-toggleable__label-arrow\">XGBClassifier</label><div class=\"sk-toggleable__content\"><pre>XGBClassifier(base_score=None, booster=None, callbacks=None,\n",
       "              colsample_bylevel=None, colsample_bynode=None,\n",
       "              colsample_bytree=None, device=None, early_stopping_rounds=None,\n",
       "              enable_categorical=False, eval_metric=None, feature_types=None,\n",
       "              gamma=None, grow_policy=None, importance_type=None,\n",
       "              interaction_constraints=None, learning_rate=None, max_bin=None,\n",
       "              max_cat_threshold=None, max_cat_to_onehot=None,\n",
       "              max_delta_step=None, max_depth=None, max_leaves=None,\n",
       "              min_child_weight=None, missing=nan, monotone_constraints=None,\n",
       "              multi_strategy=None, n_estimators=None, n_jobs=None,\n",
       "              num_parallel_tree=None, random_state=None, ...)</pre></div></div></div></div></div>"
      ],
      "text/plain": [
       "XGBClassifier(base_score=None, booster=None, callbacks=None,\n",
       "              colsample_bylevel=None, colsample_bynode=None,\n",
       "              colsample_bytree=None, device=None, early_stopping_rounds=None,\n",
       "              enable_categorical=False, eval_metric=None, feature_types=None,\n",
       "              gamma=None, grow_policy=None, importance_type=None,\n",
       "              interaction_constraints=None, learning_rate=None, max_bin=None,\n",
       "              max_cat_threshold=None, max_cat_to_onehot=None,\n",
       "              max_delta_step=None, max_depth=None, max_leaves=None,\n",
       "              min_child_weight=None, missing=nan, monotone_constraints=None,\n",
       "              multi_strategy=None, n_estimators=None, n_jobs=None,\n",
       "              num_parallel_tree=None, random_state=None, ...)"
      ]
     },
     "execution_count": 72,
     "metadata": {},
     "output_type": "execute_result"
    }
   ],
   "source": [
    "xgb.fit(x_train, y_train)"
   ]
  },
  {
   "cell_type": "code",
   "execution_count": 73,
   "id": "708d7375",
   "metadata": {},
   "outputs": [],
   "source": [
    "# Drop again our last predictions\n",
    "x_test = x_test.drop(columns = {'prediction','pred_threshold' ,'real'})"
   ]
  },
  {
   "cell_type": "code",
   "execution_count": 74,
   "id": "df1260a7",
   "metadata": {},
   "outputs": [
    {
     "data": {
      "text/html": [
       "<div>\n",
       "<style scoped>\n",
       "    .dataframe tbody tr th:only-of-type {\n",
       "        vertical-align: middle;\n",
       "    }\n",
       "\n",
       "    .dataframe tbody tr th {\n",
       "        vertical-align: top;\n",
       "    }\n",
       "\n",
       "    .dataframe thead th {\n",
       "        text-align: right;\n",
       "    }\n",
       "</style>\n",
       "<table border=\"1\" class=\"dataframe\">\n",
       "  <thead>\n",
       "    <tr style=\"text-align: right;\">\n",
       "      <th></th>\n",
       "      <th>0</th>\n",
       "      <th>1</th>\n",
       "      <th>2</th>\n",
       "      <th>3</th>\n",
       "      <th>4</th>\n",
       "      <th>5</th>\n",
       "      <th>6</th>\n",
       "      <th>7</th>\n",
       "      <th>8</th>\n",
       "      <th>9</th>\n",
       "      <th>prediction</th>\n",
       "      <th>pred_threshold</th>\n",
       "    </tr>\n",
       "  </thead>\n",
       "  <tbody>\n",
       "    <tr>\n",
       "      <th>10230</th>\n",
       "      <td>0.100451</td>\n",
       "      <td>0.0</td>\n",
       "      <td>0.538462</td>\n",
       "      <td>0.009893</td>\n",
       "      <td>0.299647</td>\n",
       "      <td>0.08</td>\n",
       "      <td>0.396353</td>\n",
       "      <td>0.460449</td>\n",
       "      <td>0.000278</td>\n",
       "      <td>0.222222</td>\n",
       "      <td>0</td>\n",
       "      <td>0.0</td>\n",
       "    </tr>\n",
       "    <tr>\n",
       "      <th>5812</th>\n",
       "      <td>0.795397</td>\n",
       "      <td>0.0</td>\n",
       "      <td>0.769231</td>\n",
       "      <td>0.000361</td>\n",
       "      <td>0.266745</td>\n",
       "      <td>0.72</td>\n",
       "      <td>0.335133</td>\n",
       "      <td>0.697821</td>\n",
       "      <td>0.039901</td>\n",
       "      <td>0.148148</td>\n",
       "      <td>0</td>\n",
       "      <td>0.0</td>\n",
       "    </tr>\n",
       "    <tr>\n",
       "      <th>321</th>\n",
       "      <td>0.147232</td>\n",
       "      <td>1.0</td>\n",
       "      <td>0.846154</td>\n",
       "      <td>0.131688</td>\n",
       "      <td>0.108108</td>\n",
       "      <td>0.52</td>\n",
       "      <td>0.541261</td>\n",
       "      <td>0.580873</td>\n",
       "      <td>0.000490</td>\n",
       "      <td>0.333333</td>\n",
       "      <td>1</td>\n",
       "      <td>1.0</td>\n",
       "    </tr>\n",
       "    <tr>\n",
       "      <th>9051</th>\n",
       "      <td>0.043757</td>\n",
       "      <td>0.0</td>\n",
       "      <td>0.692308</td>\n",
       "      <td>0.011997</td>\n",
       "      <td>0.105758</td>\n",
       "      <td>0.68</td>\n",
       "      <td>0.475008</td>\n",
       "      <td>0.910094</td>\n",
       "      <td>0.000171</td>\n",
       "      <td>0.172840</td>\n",
       "      <td>0</td>\n",
       "      <td>0.0</td>\n",
       "    </tr>\n",
       "    <tr>\n",
       "      <th>8553</th>\n",
       "      <td>0.806251</td>\n",
       "      <td>1.0</td>\n",
       "      <td>0.384615</td>\n",
       "      <td>0.017652</td>\n",
       "      <td>0.693302</td>\n",
       "      <td>0.02</td>\n",
       "      <td>0.314489</td>\n",
       "      <td>0.812156</td>\n",
       "      <td>0.000217</td>\n",
       "      <td>0.481481</td>\n",
       "      <td>0</td>\n",
       "      <td>0.0</td>\n",
       "    </tr>\n",
       "    <tr>\n",
       "      <th>...</th>\n",
       "      <td>...</td>\n",
       "      <td>...</td>\n",
       "      <td>...</td>\n",
       "      <td>...</td>\n",
       "      <td>...</td>\n",
       "      <td>...</td>\n",
       "      <td>...</td>\n",
       "      <td>...</td>\n",
       "      <td>...</td>\n",
       "      <td>...</td>\n",
       "      <td>...</td>\n",
       "      <td>...</td>\n",
       "    </tr>\n",
       "    <tr>\n",
       "      <th>2948</th>\n",
       "      <td>0.146967</td>\n",
       "      <td>1.0</td>\n",
       "      <td>0.153846</td>\n",
       "      <td>0.001322</td>\n",
       "      <td>0.507638</td>\n",
       "      <td>0.28</td>\n",
       "      <td>0.420932</td>\n",
       "      <td>0.775808</td>\n",
       "      <td>0.000409</td>\n",
       "      <td>0.172840</td>\n",
       "      <td>1</td>\n",
       "      <td>1.0</td>\n",
       "    </tr>\n",
       "    <tr>\n",
       "      <th>7542</th>\n",
       "      <td>0.252869</td>\n",
       "      <td>0.0</td>\n",
       "      <td>0.538462</td>\n",
       "      <td>0.009003</td>\n",
       "      <td>0.847239</td>\n",
       "      <td>0.28</td>\n",
       "      <td>0.438399</td>\n",
       "      <td>0.771440</td>\n",
       "      <td>0.000209</td>\n",
       "      <td>0.395062</td>\n",
       "      <td>0</td>\n",
       "      <td>0.0</td>\n",
       "    </tr>\n",
       "    <tr>\n",
       "      <th>8358</th>\n",
       "      <td>0.705748</td>\n",
       "      <td>0.5</td>\n",
       "      <td>0.923077</td>\n",
       "      <td>0.001610</td>\n",
       "      <td>0.636898</td>\n",
       "      <td>0.68</td>\n",
       "      <td>0.444493</td>\n",
       "      <td>0.938593</td>\n",
       "      <td>0.542668</td>\n",
       "      <td>0.592593</td>\n",
       "      <td>0</td>\n",
       "      <td>0.0</td>\n",
       "    </tr>\n",
       "    <tr>\n",
       "      <th>2045</th>\n",
       "      <td>0.836200</td>\n",
       "      <td>1.0</td>\n",
       "      <td>0.846154</td>\n",
       "      <td>0.174256</td>\n",
       "      <td>0.200940</td>\n",
       "      <td>0.72</td>\n",
       "      <td>0.340105</td>\n",
       "      <td>0.700063</td>\n",
       "      <td>0.000506</td>\n",
       "      <td>0.246914</td>\n",
       "      <td>1</td>\n",
       "      <td>1.0</td>\n",
       "    </tr>\n",
       "    <tr>\n",
       "      <th>5168</th>\n",
       "      <td>0.222707</td>\n",
       "      <td>0.0</td>\n",
       "      <td>0.384615</td>\n",
       "      <td>0.004971</td>\n",
       "      <td>0.159812</td>\n",
       "      <td>0.28</td>\n",
       "      <td>0.427935</td>\n",
       "      <td>0.787705</td>\n",
       "      <td>0.000157</td>\n",
       "      <td>0.555556</td>\n",
       "      <td>0</td>\n",
       "      <td>0.0</td>\n",
       "    </tr>\n",
       "  </tbody>\n",
       "</table>\n",
       "<p>2062 rows × 12 columns</p>\n",
       "</div>"
      ],
      "text/plain": [
       "              0    1         2         3         4     5         6         7  \\\n",
       "10230  0.100451  0.0  0.538462  0.009893  0.299647  0.08  0.396353  0.460449   \n",
       "5812   0.795397  0.0  0.769231  0.000361  0.266745  0.72  0.335133  0.697821   \n",
       "321    0.147232  1.0  0.846154  0.131688  0.108108  0.52  0.541261  0.580873   \n",
       "9051   0.043757  0.0  0.692308  0.011997  0.105758  0.68  0.475008  0.910094   \n",
       "8553   0.806251  1.0  0.384615  0.017652  0.693302  0.02  0.314489  0.812156   \n",
       "...         ...  ...       ...       ...       ...   ...       ...       ...   \n",
       "2948   0.146967  1.0  0.153846  0.001322  0.507638  0.28  0.420932  0.775808   \n",
       "7542   0.252869  0.0  0.538462  0.009003  0.847239  0.28  0.438399  0.771440   \n",
       "8358   0.705748  0.5  0.923077  0.001610  0.636898  0.68  0.444493  0.938593   \n",
       "2045   0.836200  1.0  0.846154  0.174256  0.200940  0.72  0.340105  0.700063   \n",
       "5168   0.222707  0.0  0.384615  0.004971  0.159812  0.28  0.427935  0.787705   \n",
       "\n",
       "              8         9  prediction  pred_threshold  \n",
       "10230  0.000278  0.222222           0             0.0  \n",
       "5812   0.039901  0.148148           0             0.0  \n",
       "321    0.000490  0.333333           1             1.0  \n",
       "9051   0.000171  0.172840           0             0.0  \n",
       "8553   0.000217  0.481481           0             0.0  \n",
       "...         ...       ...         ...             ...  \n",
       "2948   0.000409  0.172840           1             1.0  \n",
       "7542   0.000209  0.395062           0             0.0  \n",
       "8358   0.542668  0.592593           0             0.0  \n",
       "2045   0.000506  0.246914           1             1.0  \n",
       "5168   0.000157  0.555556           0             0.0  \n",
       "\n",
       "[2062 rows x 12 columns]"
      ]
     },
     "execution_count": 74,
     "metadata": {},
     "output_type": "execute_result"
    }
   ],
   "source": [
    "# Experimenting 0.3 threshold for XGBoost model\n",
    "predict(xgb, x_test, 0.3)"
   ]
  },
  {
   "cell_type": "code",
   "execution_count": 75,
   "id": "c67cdfec",
   "metadata": {},
   "outputs": [
    {
     "name": "stdout",
     "output_type": "stream",
     "text": [
      "              precision    recall  f1-score   support\n",
      "\n",
      "         0.0       0.97      0.97      0.97      1019\n",
      "         1.0       0.97      0.97      0.97      1043\n",
      "\n",
      "    accuracy                           0.97      2062\n",
      "   macro avg       0.97      0.97      0.97      2062\n",
      "weighted avg       0.97      0.97      0.97      2062\n",
      "\n",
      "              precision    recall  f1-score   support\n",
      "\n",
      "         0.0       0.98      0.96      0.97      1019\n",
      "         1.0       0.96      0.98      0.97      1043\n",
      "\n",
      "    accuracy                           0.97      2062\n",
      "   macro avg       0.97      0.97      0.97      2062\n",
      "weighted avg       0.97      0.97      0.97      2062\n",
      "\n"
     ]
    }
   ],
   "source": [
    "x_test[\"real\"] = y_test[\"is_fraud\"]\n",
    "print(classification_report(x_test['real'], x_test['prediction']))\n",
    "print(classification_report(x_test['real'], x_test['pred_threshold']))"
   ]
  },
  {
   "cell_type": "code",
   "execution_count": 77,
   "id": "fe4c492c",
   "metadata": {},
   "outputs": [],
   "source": [
    "from sklearn.naive_bayes import MultinomialNB\n",
    "mnb = MultinomialNB()"
   ]
  },
  {
   "cell_type": "code",
   "execution_count": 78,
   "id": "ce6a6ee0",
   "metadata": {},
   "outputs": [
    {
     "data": {
      "text/html": [
       "<style>#sk-container-id-4 {color: black;background-color: white;}#sk-container-id-4 pre{padding: 0;}#sk-container-id-4 div.sk-toggleable {background-color: white;}#sk-container-id-4 label.sk-toggleable__label {cursor: pointer;display: block;width: 100%;margin-bottom: 0;padding: 0.3em;box-sizing: border-box;text-align: center;}#sk-container-id-4 label.sk-toggleable__label-arrow:before {content: \"▸\";float: left;margin-right: 0.25em;color: #696969;}#sk-container-id-4 label.sk-toggleable__label-arrow:hover:before {color: black;}#sk-container-id-4 div.sk-estimator:hover label.sk-toggleable__label-arrow:before {color: black;}#sk-container-id-4 div.sk-toggleable__content {max-height: 0;max-width: 0;overflow: hidden;text-align: left;background-color: #f0f8ff;}#sk-container-id-4 div.sk-toggleable__content pre {margin: 0.2em;color: black;border-radius: 0.25em;background-color: #f0f8ff;}#sk-container-id-4 input.sk-toggleable__control:checked~div.sk-toggleable__content {max-height: 200px;max-width: 100%;overflow: auto;}#sk-container-id-4 input.sk-toggleable__control:checked~label.sk-toggleable__label-arrow:before {content: \"▾\";}#sk-container-id-4 div.sk-estimator input.sk-toggleable__control:checked~label.sk-toggleable__label {background-color: #d4ebff;}#sk-container-id-4 div.sk-label input.sk-toggleable__control:checked~label.sk-toggleable__label {background-color: #d4ebff;}#sk-container-id-4 input.sk-hidden--visually {border: 0;clip: rect(1px 1px 1px 1px);clip: rect(1px, 1px, 1px, 1px);height: 1px;margin: -1px;overflow: hidden;padding: 0;position: absolute;width: 1px;}#sk-container-id-4 div.sk-estimator {font-family: monospace;background-color: #f0f8ff;border: 1px dotted black;border-radius: 0.25em;box-sizing: border-box;margin-bottom: 0.5em;}#sk-container-id-4 div.sk-estimator:hover {background-color: #d4ebff;}#sk-container-id-4 div.sk-parallel-item::after {content: \"\";width: 100%;border-bottom: 1px solid gray;flex-grow: 1;}#sk-container-id-4 div.sk-label:hover label.sk-toggleable__label {background-color: #d4ebff;}#sk-container-id-4 div.sk-serial::before {content: \"\";position: absolute;border-left: 1px solid gray;box-sizing: border-box;top: 0;bottom: 0;left: 50%;z-index: 0;}#sk-container-id-4 div.sk-serial {display: flex;flex-direction: column;align-items: center;background-color: white;padding-right: 0.2em;padding-left: 0.2em;position: relative;}#sk-container-id-4 div.sk-item {position: relative;z-index: 1;}#sk-container-id-4 div.sk-parallel {display: flex;align-items: stretch;justify-content: center;background-color: white;position: relative;}#sk-container-id-4 div.sk-item::before, #sk-container-id-4 div.sk-parallel-item::before {content: \"\";position: absolute;border-left: 1px solid gray;box-sizing: border-box;top: 0;bottom: 0;left: 50%;z-index: -1;}#sk-container-id-4 div.sk-parallel-item {display: flex;flex-direction: column;z-index: 1;position: relative;background-color: white;}#sk-container-id-4 div.sk-parallel-item:first-child::after {align-self: flex-end;width: 50%;}#sk-container-id-4 div.sk-parallel-item:last-child::after {align-self: flex-start;width: 50%;}#sk-container-id-4 div.sk-parallel-item:only-child::after {width: 0;}#sk-container-id-4 div.sk-dashed-wrapped {border: 1px dashed gray;margin: 0 0.4em 0.5em 0.4em;box-sizing: border-box;padding-bottom: 0.4em;background-color: white;}#sk-container-id-4 div.sk-label label {font-family: monospace;font-weight: bold;display: inline-block;line-height: 1.2em;}#sk-container-id-4 div.sk-label-container {text-align: center;}#sk-container-id-4 div.sk-container {/* jupyter's `normalize.less` sets `[hidden] { display: none; }` but bootstrap.min.css set `[hidden] { display: none !important; }` so we also need the `!important` here to be able to override the default hidden behavior on the sphinx rendered scikit-learn.org. See: https://github.com/scikit-learn/scikit-learn/issues/21755 */display: inline-block !important;position: relative;}#sk-container-id-4 div.sk-text-repr-fallback {display: none;}</style><div id=\"sk-container-id-4\" class=\"sk-top-container\"><div class=\"sk-text-repr-fallback\"><pre>MultinomialNB()</pre><b>In a Jupyter environment, please rerun this cell to show the HTML representation or trust the notebook. <br />On GitHub, the HTML representation is unable to render, please try loading this page with nbviewer.org.</b></div><div class=\"sk-container\" hidden><div class=\"sk-item\"><div class=\"sk-estimator sk-toggleable\"><input class=\"sk-toggleable__control sk-hidden--visually\" id=\"sk-estimator-id-4\" type=\"checkbox\" checked><label for=\"sk-estimator-id-4\" class=\"sk-toggleable__label sk-toggleable__label-arrow\">MultinomialNB</label><div class=\"sk-toggleable__content\"><pre>MultinomialNB()</pre></div></div></div></div></div>"
      ],
      "text/plain": [
       "MultinomialNB()"
      ]
     },
     "execution_count": 78,
     "metadata": {},
     "output_type": "execute_result"
    }
   ],
   "source": [
    "mnb.fit(x_train, y_train)"
   ]
  },
  {
   "cell_type": "code",
   "execution_count": 79,
   "id": "adb332b8",
   "metadata": {},
   "outputs": [],
   "source": [
    "# Drop again our last predictions\n",
    "x_test = x_test.drop(columns = {'prediction','pred_threshold' ,'real'})"
   ]
  },
  {
   "cell_type": "code",
   "execution_count": 81,
   "id": "b365cd5e",
   "metadata": {},
   "outputs": [
    {
     "data": {
      "text/html": [
       "<div>\n",
       "<style scoped>\n",
       "    .dataframe tbody tr th:only-of-type {\n",
       "        vertical-align: middle;\n",
       "    }\n",
       "\n",
       "    .dataframe tbody tr th {\n",
       "        vertical-align: top;\n",
       "    }\n",
       "\n",
       "    .dataframe thead th {\n",
       "        text-align: right;\n",
       "    }\n",
       "</style>\n",
       "<table border=\"1\" class=\"dataframe\">\n",
       "  <thead>\n",
       "    <tr style=\"text-align: right;\">\n",
       "      <th></th>\n",
       "      <th>0</th>\n",
       "      <th>1</th>\n",
       "      <th>2</th>\n",
       "      <th>3</th>\n",
       "      <th>4</th>\n",
       "      <th>5</th>\n",
       "      <th>6</th>\n",
       "      <th>7</th>\n",
       "      <th>8</th>\n",
       "      <th>9</th>\n",
       "      <th>prediction</th>\n",
       "      <th>pred_threshold</th>\n",
       "    </tr>\n",
       "  </thead>\n",
       "  <tbody>\n",
       "    <tr>\n",
       "      <th>10230</th>\n",
       "      <td>0.100451</td>\n",
       "      <td>0.0</td>\n",
       "      <td>0.538462</td>\n",
       "      <td>0.009893</td>\n",
       "      <td>0.299647</td>\n",
       "      <td>0.08</td>\n",
       "      <td>0.396353</td>\n",
       "      <td>0.460449</td>\n",
       "      <td>0.000278</td>\n",
       "      <td>0.222222</td>\n",
       "      <td>0.0</td>\n",
       "      <td>1.0</td>\n",
       "    </tr>\n",
       "    <tr>\n",
       "      <th>5812</th>\n",
       "      <td>0.795397</td>\n",
       "      <td>0.0</td>\n",
       "      <td>0.769231</td>\n",
       "      <td>0.000361</td>\n",
       "      <td>0.266745</td>\n",
       "      <td>0.72</td>\n",
       "      <td>0.335133</td>\n",
       "      <td>0.697821</td>\n",
       "      <td>0.039901</td>\n",
       "      <td>0.148148</td>\n",
       "      <td>0.0</td>\n",
       "      <td>0.0</td>\n",
       "    </tr>\n",
       "    <tr>\n",
       "      <th>321</th>\n",
       "      <td>0.147232</td>\n",
       "      <td>1.0</td>\n",
       "      <td>0.846154</td>\n",
       "      <td>0.131688</td>\n",
       "      <td>0.108108</td>\n",
       "      <td>0.52</td>\n",
       "      <td>0.541261</td>\n",
       "      <td>0.580873</td>\n",
       "      <td>0.000490</td>\n",
       "      <td>0.333333</td>\n",
       "      <td>1.0</td>\n",
       "      <td>1.0</td>\n",
       "    </tr>\n",
       "    <tr>\n",
       "      <th>9051</th>\n",
       "      <td>0.043757</td>\n",
       "      <td>0.0</td>\n",
       "      <td>0.692308</td>\n",
       "      <td>0.011997</td>\n",
       "      <td>0.105758</td>\n",
       "      <td>0.68</td>\n",
       "      <td>0.475008</td>\n",
       "      <td>0.910094</td>\n",
       "      <td>0.000171</td>\n",
       "      <td>0.172840</td>\n",
       "      <td>0.0</td>\n",
       "      <td>1.0</td>\n",
       "    </tr>\n",
       "    <tr>\n",
       "      <th>8553</th>\n",
       "      <td>0.806251</td>\n",
       "      <td>1.0</td>\n",
       "      <td>0.384615</td>\n",
       "      <td>0.017652</td>\n",
       "      <td>0.693302</td>\n",
       "      <td>0.02</td>\n",
       "      <td>0.314489</td>\n",
       "      <td>0.812156</td>\n",
       "      <td>0.000217</td>\n",
       "      <td>0.481481</td>\n",
       "      <td>1.0</td>\n",
       "      <td>1.0</td>\n",
       "    </tr>\n",
       "    <tr>\n",
       "      <th>...</th>\n",
       "      <td>...</td>\n",
       "      <td>...</td>\n",
       "      <td>...</td>\n",
       "      <td>...</td>\n",
       "      <td>...</td>\n",
       "      <td>...</td>\n",
       "      <td>...</td>\n",
       "      <td>...</td>\n",
       "      <td>...</td>\n",
       "      <td>...</td>\n",
       "      <td>...</td>\n",
       "      <td>...</td>\n",
       "    </tr>\n",
       "    <tr>\n",
       "      <th>2948</th>\n",
       "      <td>0.146967</td>\n",
       "      <td>1.0</td>\n",
       "      <td>0.153846</td>\n",
       "      <td>0.001322</td>\n",
       "      <td>0.507638</td>\n",
       "      <td>0.28</td>\n",
       "      <td>0.420932</td>\n",
       "      <td>0.775808</td>\n",
       "      <td>0.000409</td>\n",
       "      <td>0.172840</td>\n",
       "      <td>1.0</td>\n",
       "      <td>1.0</td>\n",
       "    </tr>\n",
       "    <tr>\n",
       "      <th>7542</th>\n",
       "      <td>0.252869</td>\n",
       "      <td>0.0</td>\n",
       "      <td>0.538462</td>\n",
       "      <td>0.009003</td>\n",
       "      <td>0.847239</td>\n",
       "      <td>0.28</td>\n",
       "      <td>0.438399</td>\n",
       "      <td>0.771440</td>\n",
       "      <td>0.000209</td>\n",
       "      <td>0.395062</td>\n",
       "      <td>0.0</td>\n",
       "      <td>1.0</td>\n",
       "    </tr>\n",
       "    <tr>\n",
       "      <th>8358</th>\n",
       "      <td>0.705748</td>\n",
       "      <td>0.5</td>\n",
       "      <td>0.923077</td>\n",
       "      <td>0.001610</td>\n",
       "      <td>0.636898</td>\n",
       "      <td>0.68</td>\n",
       "      <td>0.444493</td>\n",
       "      <td>0.938593</td>\n",
       "      <td>0.542668</td>\n",
       "      <td>0.592593</td>\n",
       "      <td>0.0</td>\n",
       "      <td>1.0</td>\n",
       "    </tr>\n",
       "    <tr>\n",
       "      <th>2045</th>\n",
       "      <td>0.836200</td>\n",
       "      <td>1.0</td>\n",
       "      <td>0.846154</td>\n",
       "      <td>0.174256</td>\n",
       "      <td>0.200940</td>\n",
       "      <td>0.72</td>\n",
       "      <td>0.340105</td>\n",
       "      <td>0.700063</td>\n",
       "      <td>0.000506</td>\n",
       "      <td>0.246914</td>\n",
       "      <td>1.0</td>\n",
       "      <td>1.0</td>\n",
       "    </tr>\n",
       "    <tr>\n",
       "      <th>5168</th>\n",
       "      <td>0.222707</td>\n",
       "      <td>0.0</td>\n",
       "      <td>0.384615</td>\n",
       "      <td>0.004971</td>\n",
       "      <td>0.159812</td>\n",
       "      <td>0.28</td>\n",
       "      <td>0.427935</td>\n",
       "      <td>0.787705</td>\n",
       "      <td>0.000157</td>\n",
       "      <td>0.555556</td>\n",
       "      <td>0.0</td>\n",
       "      <td>1.0</td>\n",
       "    </tr>\n",
       "  </tbody>\n",
       "</table>\n",
       "<p>2062 rows × 12 columns</p>\n",
       "</div>"
      ],
      "text/plain": [
       "              0    1         2         3         4     5         6         7  \\\n",
       "10230  0.100451  0.0  0.538462  0.009893  0.299647  0.08  0.396353  0.460449   \n",
       "5812   0.795397  0.0  0.769231  0.000361  0.266745  0.72  0.335133  0.697821   \n",
       "321    0.147232  1.0  0.846154  0.131688  0.108108  0.52  0.541261  0.580873   \n",
       "9051   0.043757  0.0  0.692308  0.011997  0.105758  0.68  0.475008  0.910094   \n",
       "8553   0.806251  1.0  0.384615  0.017652  0.693302  0.02  0.314489  0.812156   \n",
       "...         ...  ...       ...       ...       ...   ...       ...       ...   \n",
       "2948   0.146967  1.0  0.153846  0.001322  0.507638  0.28  0.420932  0.775808   \n",
       "7542   0.252869  0.0  0.538462  0.009003  0.847239  0.28  0.438399  0.771440   \n",
       "8358   0.705748  0.5  0.923077  0.001610  0.636898  0.68  0.444493  0.938593   \n",
       "2045   0.836200  1.0  0.846154  0.174256  0.200940  0.72  0.340105  0.700063   \n",
       "5168   0.222707  0.0  0.384615  0.004971  0.159812  0.28  0.427935  0.787705   \n",
       "\n",
       "              8         9  prediction  pred_threshold  \n",
       "10230  0.000278  0.222222         0.0             1.0  \n",
       "5812   0.039901  0.148148         0.0             0.0  \n",
       "321    0.000490  0.333333         1.0             1.0  \n",
       "9051   0.000171  0.172840         0.0             1.0  \n",
       "8553   0.000217  0.481481         1.0             1.0  \n",
       "...         ...       ...         ...             ...  \n",
       "2948   0.000409  0.172840         1.0             1.0  \n",
       "7542   0.000209  0.395062         0.0             1.0  \n",
       "8358   0.542668  0.592593         0.0             1.0  \n",
       "2045   0.000506  0.246914         1.0             1.0  \n",
       "5168   0.000157  0.555556         0.0             1.0  \n",
       "\n",
       "[2062 rows x 12 columns]"
      ]
     },
     "execution_count": 81,
     "metadata": {},
     "output_type": "execute_result"
    }
   ],
   "source": [
    "# Experimenting 0.3 threshold for mnb model\n",
    "predict(mnb, x_test, 0.4)"
   ]
  },
  {
   "cell_type": "code",
   "execution_count": 82,
   "id": "8846b38a",
   "metadata": {},
   "outputs": [
    {
     "name": "stdout",
     "output_type": "stream",
     "text": [
      "              precision    recall  f1-score   support\n",
      "\n",
      "         0.0       0.83      0.72      0.77      1019\n",
      "         1.0       0.76      0.86      0.80      1043\n",
      "\n",
      "    accuracy                           0.79      2062\n",
      "   macro avg       0.79      0.79      0.79      2062\n",
      "weighted avg       0.79      0.79      0.79      2062\n",
      "\n",
      "              precision    recall  f1-score   support\n",
      "\n",
      "         0.0       0.97      0.24      0.38      1019\n",
      "         1.0       0.57      0.99      0.73      1043\n",
      "\n",
      "    accuracy                           0.62      2062\n",
      "   macro avg       0.77      0.62      0.55      2062\n",
      "weighted avg       0.77      0.62      0.56      2062\n",
      "\n"
     ]
    }
   ],
   "source": [
    "x_test[\"real\"] = y_test[\"is_fraud\"]\n",
    "print(classification_report(x_test['real'], x_test['prediction']))\n",
    "print(classification_report(x_test['real'], x_test['pred_threshold']))"
   ]
  },
  {
   "cell_type": "code",
   "execution_count": 83,
   "id": "4deb1457",
   "metadata": {},
   "outputs": [
    {
     "data": {
      "image/png": "[encoded data removed]",
      "text/plain": [
       "<Figure size 640x480 with 2 Axes>"
      ]
     },
     "metadata": {},
     "output_type": "display_data"
    }
   ],
   "source": [
    "confusion_matrix_plot(x_test, 'prediction', xgb)"
   ]
  },
  {
   "cell_type": "code",
   "execution_count": 85,
   "id": "9cffccbf",
   "metadata": {},
   "outputs": [],
   "source": [
    "from sklearn.feature_extraction.text import CountVectorizer,TfidfVectorizer\n",
    "cv = CountVectorizer()\n",
    "tfidf = TfidfVectorizer(max_features=5000)"
   ]
  },
  {
   "cell_type": "code",
   "execution_count": 86,
   "id": "11e99f29",
   "metadata": {},
   "outputs": [],
   "source": [
    "import pickle \n",
    "pickle.dump(tfidf,open('vectorizer.pkl','wb'))\n",
    "pickle.dump(mnb,open('model.pkl','wb'))"
   ]
  },
  {
   "cell_type": "code",
   "execution_count": null,
   "id": "515ccdde",
   "metadata": {},
   "outputs": [],
   "source": []
  }
 ],
 "metadata": {
  "kernelspec": {
   "display_name": "Python 3 (ipykernel)",
   "language": "python",
   "name": "python3"
  },
  "language_info": {
   "codemirror_mode": {
    "name": "ipython",
    "version": 3
   },
   "file_extension": ".py",
   "mimetype": "text/x-python",
   "name": "python",
   "nbconvert_exporter": "python",
   "pygments_lexer": "ipython3",
   "version": "3.11.7"
  }
 },
 "nbformat": 4,
 "nbformat_minor": 5
}
